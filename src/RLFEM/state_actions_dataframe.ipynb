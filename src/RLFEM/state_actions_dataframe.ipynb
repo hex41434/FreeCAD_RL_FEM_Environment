{
 "cells": [
  {
   "cell_type": "code",
   "execution_count": 1,
   "metadata": {},
   "outputs": [],
   "source": [
    "# env:freecad_fem_env_meshlab \n",
    "# read csv files and save in one dataframe ( h5 file )\n",
    "import os\n",
    "import trimesh\n",
    "import numpy as np\n",
    "import datetime as dt \n",
    "import pandas as pd\n"
   ]
  },
  {
   "cell_type": "code",
   "execution_count": 2,
   "metadata": {},
   "outputs": [],
   "source": [
    "h5_file = '/work/aifa/DATA/RLFEM_Data/obj_Meshes/state_actions.h5'\n",
    "\n",
    "obj_meshes_root = '/work/aifa/DATA/RLFEM_Data/obj_Meshes/'\n",
    "xls_root = '/scratch/aifa/MyRepo/RL_FEM/gym_RLFEM/FreeCAD_RL_FEM_Environment/data'\n",
    "xls_list = os.listdir(xls_root)\n",
    "\n",
    "xls_list.sort()\n",
    "xls_list[:] = [x for x in xls_list if x.startswith('2023')]\n",
    "xls_list.sort()"
   ]
  },
  {
   "cell_type": "code",
   "execution_count": 3,
   "metadata": {},
   "outputs": [
    {
     "data": {
      "text/plain": [
       "['2023', '20230217_170201', '20230217_170852']"
      ]
     },
     "execution_count": 3,
     "metadata": {},
     "output_type": "execute_result"
    }
   ],
   "source": [
    "\n",
    "xls_list[:3]"
   ]
  },
  {
   "cell_type": "code",
   "execution_count": null,
   "metadata": {},
   "outputs": [],
   "source": [
    "xls_file = 'state_actions_obj_format.xlsx' # have same name in different paths\n",
    "\n",
    "DF = []\n",
    "for xls_folder in xls_list:\n",
    "    print(xls_folder)\n",
    "    df = pd.read_excel(os.path.join(xls_root, xls_folder,xls_file), engine='openpyxl',header=None,names=['state_t_1','Fx','Fy','F','state_t'])\n",
    "    \n",
    "    # # add mesh file (full path) to column St_1 and St\n",
    "    df['state_t_1'] = os.path.join(obj_meshes_root, xls_folder) +'/'+ df['state_t_1'] \n",
    "    df['state_t'] = os.path.join(obj_meshes_root, xls_folder) +'/'+ df['state_t'] \n",
    "    \n",
    "    # find indicies where Mesh0.obj - we have only one Mesh0.obj file \n",
    "    lc = df.index[df['state_t_1'].str.endswith(\"Mesh0.obj\")].tolist()\n",
    "    df.loc[lc,'state_t_1'] = '/work/aifa/DATA/RLFEM_Data/Mesh0.obj'\n",
    "\n",
    "    DF.append(df)\n",
    "    \n",
    "DF = pd.concat(DF,ignore_index=True)"
   ]
  },
  {
   "cell_type": "code",
   "execution_count": 5,
   "metadata": {},
   "outputs": [
    {
     "data": {
      "text/html": [
       "<div>\n",
       "<style scoped>\n",
       "    .dataframe tbody tr th:only-of-type {\n",
       "        vertical-align: middle;\n",
       "    }\n",
       "\n",
       "    .dataframe tbody tr th {\n",
       "        vertical-align: top;\n",
       "    }\n",
       "\n",
       "    .dataframe thead th {\n",
       "        text-align: right;\n",
       "    }\n",
       "</style>\n",
       "<table border=\"1\" class=\"dataframe\">\n",
       "  <thead>\n",
       "    <tr style=\"text-align: right;\">\n",
       "      <th></th>\n",
       "      <th>state_t_1</th>\n",
       "      <th>Fx</th>\n",
       "      <th>Fy</th>\n",
       "      <th>F</th>\n",
       "      <th>state_t</th>\n",
       "    </tr>\n",
       "  </thead>\n",
       "  <tbody>\n",
       "    <tr>\n",
       "      <th>0</th>\n",
       "      <td>/work/aifa/DATA/RLFEM_Data/Mesh0.obj</td>\n",
       "      <td>5</td>\n",
       "      <td>2</td>\n",
       "      <td>-333</td>\n",
       "      <td>/work/aifa/DATA/RLFEM_Data/obj_Meshes/2023/_20...</td>\n",
       "    </tr>\n",
       "    <tr>\n",
       "      <th>1</th>\n",
       "      <td>/work/aifa/DATA/RLFEM_Data/obj_Meshes/2023/_20...</td>\n",
       "      <td>8</td>\n",
       "      <td>1</td>\n",
       "      <td>-553</td>\n",
       "      <td>/work/aifa/DATA/RLFEM_Data/obj_Meshes/2023/_20...</td>\n",
       "    </tr>\n",
       "    <tr>\n",
       "      <th>2</th>\n",
       "      <td>/work/aifa/DATA/RLFEM_Data/Mesh0.obj</td>\n",
       "      <td>8</td>\n",
       "      <td>1</td>\n",
       "      <td>-378</td>\n",
       "      <td>/work/aifa/DATA/RLFEM_Data/obj_Meshes/2023/_20...</td>\n",
       "    </tr>\n",
       "    <tr>\n",
       "      <th>3</th>\n",
       "      <td>/work/aifa/DATA/RLFEM_Data/obj_Meshes/2023/_20...</td>\n",
       "      <td>4</td>\n",
       "      <td>1</td>\n",
       "      <td>-110</td>\n",
       "      <td>/work/aifa/DATA/RLFEM_Data/obj_Meshes/2023/_20...</td>\n",
       "    </tr>\n",
       "    <tr>\n",
       "      <th>4</th>\n",
       "      <td>/work/aifa/DATA/RLFEM_Data/obj_Meshes/2023/_20...</td>\n",
       "      <td>8</td>\n",
       "      <td>1</td>\n",
       "      <td>-315</td>\n",
       "      <td>/work/aifa/DATA/RLFEM_Data/obj_Meshes/2023/_20...</td>\n",
       "    </tr>\n",
       "    <tr>\n",
       "      <th>...</th>\n",
       "      <td>...</td>\n",
       "      <td>...</td>\n",
       "      <td>...</td>\n",
       "      <td>...</td>\n",
       "      <td>...</td>\n",
       "    </tr>\n",
       "    <tr>\n",
       "      <th>281411</th>\n",
       "      <td>/work/aifa/DATA/RLFEM_Data/obj_Meshes/20230227...</td>\n",
       "      <td>4</td>\n",
       "      <td>1</td>\n",
       "      <td>-192</td>\n",
       "      <td>/work/aifa/DATA/RLFEM_Data/obj_Meshes/20230227...</td>\n",
       "    </tr>\n",
       "    <tr>\n",
       "      <th>281412</th>\n",
       "      <td>/work/aifa/DATA/RLFEM_Data/obj_Meshes/20230227...</td>\n",
       "      <td>9</td>\n",
       "      <td>2</td>\n",
       "      <td>-564</td>\n",
       "      <td>/work/aifa/DATA/RLFEM_Data/obj_Meshes/20230227...</td>\n",
       "    </tr>\n",
       "    <tr>\n",
       "      <th>281413</th>\n",
       "      <td>/work/aifa/DATA/RLFEM_Data/obj_Meshes/20230227...</td>\n",
       "      <td>9</td>\n",
       "      <td>1</td>\n",
       "      <td>-445</td>\n",
       "      <td>/work/aifa/DATA/RLFEM_Data/obj_Meshes/20230227...</td>\n",
       "    </tr>\n",
       "    <tr>\n",
       "      <th>281414</th>\n",
       "      <td>/work/aifa/DATA/RLFEM_Data/obj_Meshes/20230227...</td>\n",
       "      <td>3</td>\n",
       "      <td>1</td>\n",
       "      <td>-254</td>\n",
       "      <td>/work/aifa/DATA/RLFEM_Data/obj_Meshes/20230227...</td>\n",
       "    </tr>\n",
       "    <tr>\n",
       "      <th>281415</th>\n",
       "      <td>/work/aifa/DATA/RLFEM_Data/obj_Meshes/20230227...</td>\n",
       "      <td>9</td>\n",
       "      <td>1</td>\n",
       "      <td>-149</td>\n",
       "      <td>/work/aifa/DATA/RLFEM_Data/obj_Meshes/20230227...</td>\n",
       "    </tr>\n",
       "  </tbody>\n",
       "</table>\n",
       "<p>281416 rows × 5 columns</p>\n",
       "</div>"
      ],
      "text/plain": [
       "                                                state_t_1  Fx  Fy    F  \\\n",
       "0                    /work/aifa/DATA/RLFEM_Data/Mesh0.obj   5   2 -333   \n",
       "1       /work/aifa/DATA/RLFEM_Data/obj_Meshes/2023/_20...   8   1 -553   \n",
       "2                    /work/aifa/DATA/RLFEM_Data/Mesh0.obj   8   1 -378   \n",
       "3       /work/aifa/DATA/RLFEM_Data/obj_Meshes/2023/_20...   4   1 -110   \n",
       "4       /work/aifa/DATA/RLFEM_Data/obj_Meshes/2023/_20...   8   1 -315   \n",
       "...                                                   ...  ..  ..  ...   \n",
       "281411  /work/aifa/DATA/RLFEM_Data/obj_Meshes/20230227...   4   1 -192   \n",
       "281412  /work/aifa/DATA/RLFEM_Data/obj_Meshes/20230227...   9   2 -564   \n",
       "281413  /work/aifa/DATA/RLFEM_Data/obj_Meshes/20230227...   9   1 -445   \n",
       "281414  /work/aifa/DATA/RLFEM_Data/obj_Meshes/20230227...   3   1 -254   \n",
       "281415  /work/aifa/DATA/RLFEM_Data/obj_Meshes/20230227...   9   1 -149   \n",
       "\n",
       "                                                  state_t  \n",
       "0       /work/aifa/DATA/RLFEM_Data/obj_Meshes/2023/_20...  \n",
       "1       /work/aifa/DATA/RLFEM_Data/obj_Meshes/2023/_20...  \n",
       "2       /work/aifa/DATA/RLFEM_Data/obj_Meshes/2023/_20...  \n",
       "3       /work/aifa/DATA/RLFEM_Data/obj_Meshes/2023/_20...  \n",
       "4       /work/aifa/DATA/RLFEM_Data/obj_Meshes/2023/_20...  \n",
       "...                                                   ...  \n",
       "281411  /work/aifa/DATA/RLFEM_Data/obj_Meshes/20230227...  \n",
       "281412  /work/aifa/DATA/RLFEM_Data/obj_Meshes/20230227...  \n",
       "281413  /work/aifa/DATA/RLFEM_Data/obj_Meshes/20230227...  \n",
       "281414  /work/aifa/DATA/RLFEM_Data/obj_Meshes/20230227...  \n",
       "281415  /work/aifa/DATA/RLFEM_Data/obj_Meshes/20230227...  \n",
       "\n",
       "[281416 rows x 5 columns]"
      ]
     },
     "execution_count": 5,
     "metadata": {},
     "output_type": "execute_result"
    }
   ],
   "source": [
    "DF"
   ]
  },
  {
   "cell_type": "code",
   "execution_count": 6,
   "metadata": {},
   "outputs": [],
   "source": [
    "# save the dataframe\n",
    "\n",
    "# DF.to_hdf(h5_file, key='DF', mode='w') "
   ]
  }
 ],
 "metadata": {
  "kernelspec": {
   "display_name": "freecad_fem_env_meshlab",
   "language": "python",
   "name": "python3"
  },
  "language_info": {
   "codemirror_mode": {
    "name": "ipython",
    "version": 3
   },
   "file_extension": ".py",
   "mimetype": "text/x-python",
   "name": "python",
   "nbconvert_exporter": "python",
   "pygments_lexer": "ipython3",
   "version": "3.7.8"
  },
  "orig_nbformat": 4,
  "vscode": {
   "interpreter": {
    "hash": "0ed4b81fbdbfd550574d8d33871560ab85c36782770b79694cf7e782f0a3e28e"
   }
  }
 },
 "nbformat": 4,
 "nbformat_minor": 2
}
