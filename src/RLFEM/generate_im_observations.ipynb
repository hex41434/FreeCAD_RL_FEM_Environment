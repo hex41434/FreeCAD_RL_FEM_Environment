{
 "cells": [
  {
   "cell_type": "code",
   "execution_count": 1,
   "metadata": {},
   "outputs": [],
   "source": [
    "# env:freecad_fem_env_meshlab \n",
    "import os\n",
    "os.environ[\"PYOPENGL_PLATFORM\"] = \"egl\"\n",
    "import pyrender\n",
    "import trimesh\n",
    "import numpy as np\n",
    "import datetime as dt \n",
    "from PIL import Image"
   ]
  },
  {
   "cell_type": "code",
   "execution_count": 2,
   "metadata": {},
   "outputs": [],
   "source": [
    "    \n",
    "def make_observation(trmsh):\n",
    "    camera_pres = pyrender.PerspectiveCamera(yfov=np.pi / 3.0)\n",
    "    s = np.sqrt(2)/2\n",
    "    camera_pres_pose_top = np.array([\n",
    "    [s, 0.0, s, 5.0],\n",
    "    [0.0, 1.0, 0.0, 2.0],\n",
    "    [s, 0.0, s, 10],\n",
    "    [0.0, 0.0, 0.0, 1.0],\n",
    "    ])\n",
    "            \n",
    "    mish = pyrender.Mesh.from_trimesh(trmsh)\n",
    "    prscene = pyrender.Scene(ambient_light=np.array([1.0, 1.0, 1.0, 1.0]))\n",
    "    prscene.add(camera_pres,pose=camera_pres_pose_top)\n",
    "    prscene.add(mish)\n",
    "    \n",
    "    r = pyrender.OffscreenRenderer(viewport_width=640,viewport_height=480,point_size=1.0)\n",
    "    img,dpth = r.render(prscene)\n",
    "    # print(f\"============={img.size}\")\n",
    "    return img, dpth\n",
    "    \n",
    "def trimesh_to_color_depth(trmsh):\n",
    "    kaf = np.array(trmsh.vertices)\n",
    "    kaf[:,2]=0\n",
    "\n",
    "    radii = np.linalg.norm(trmsh.vertices - kaf, axis=1)\n",
    "    cmap = ['jet' ,'viridis']\n",
    "    trmsh.visual.vertex_colors = trimesh.visual.interpolate(radii, color_map=cmap[0])\n",
    "    return trmsh"
   ]
  },
  {
   "cell_type": "code",
   "execution_count": 3,
   "metadata": {},
   "outputs": [],
   "source": [
    "# when we have files in root and the subfolders\n",
    "#-----------------------------------------------\n",
    "#\n",
    "# for path, subdirs, files in os.walk(root_folder): # load meshes from all subfolders\n",
    "#     for name in files:\n",
    "#         fullpath_msh_lst.append(os.path.join(path, name))\n",
    "\n",
    "\n",
    "# for mytrmesh_fullpath in fullpath_msh_lst:        \n",
    "#     if not mytrmesh_fullpath.startswith('.') and mytrmesh_fullpath.endswith('.obj'):\n",
    "#         mytrmesh = trimesh.load(mytrmesh_fullpath)\n",
    "\n",
    "#         colored_result_mesh = trimesh_to_color_depth(mytrmesh)\n",
    "#         rgbimg, depth_img = make_observation(colored_result_mesh)\n",
    "#         im_observation = Image.fromarray(rgbimg).resize([64,48]).crop(box=[5,15,60,38])\n",
    "    \n",
    "#         image_filename = mytrmesh_fullpath.replace('obj_Meshes','png_Meshes').replace('.obj', '.png')    \n",
    "#         save_obs=True\n",
    "#         if(save_obs):\n",
    "#             im_observation.save(image_filename)\n",
    "#             # self.im_observation = np.asarray(self.im_observation) # img or array\n",
    "\n"
   ]
  },
  {
   "cell_type": "code",
   "execution_count": 4,
   "metadata": {},
   "outputs": [],
   "source": [
    "# create empty folders for png files - if does not exist\n",
    "\n",
    "fullpath_msh_lst = []\n",
    "root_folder = '/work/aifa/DATA/RLFEM_Data/obj_Meshes'\n",
    "\n",
    "# for path, subdirs, files in os.walk(root_folder): # load meshes from all subfolders\n",
    "#     for name in subdirs:\n",
    "#         if os.path.isdir(os.path.join(path,name)):\n",
    "#             new_folder = os.path.join(path,name).replace('obj_Meshes', 'png_Meshes')\n",
    "#             if not os.path.exists(new_folder):\n",
    "#                os.mkdir(new_folder) "
   ]
  },
  {
   "cell_type": "code",
   "execution_count": 5,
   "metadata": {},
   "outputs": [],
   "source": [
    "# only search the subfolders, and generate png from trimesh files \n",
    "#-----------------------------------------------\n",
    "sub_f_list = []\n",
    "for path, subdirs, files in os.walk(root_folder): # load meshes from all subfolders\n",
    "    for name in subdirs:\n",
    "        if os.path.isdir(os.path.join(path,name)):\n",
    "            sub_f_list.append(os.path.join(path,name))\n",
    "            \n",
    "sub_f_list.sort()            \n",
    "            \n",
    "for sub_f in sub_f_list:\n",
    "    print(sub_f)\n",
    "    obj_list = os.listdir(sub_f)\n",
    "    for mytrmesh in obj_list:\n",
    "        if not mytrmesh.startswith('.') and mytrmesh.endswith('.obj'):\n",
    "            mytrmesh_fullpath = os.path.join(sub_f,mytrmesh)\n",
    "            print(mytrmesh_fullpath)\n",
    "            mytrmesh = trimesh.load(mytrmesh_fullpath)\n",
    "\n",
    "            colored_result_mesh = trimesh_to_color_depth(mytrmesh)\n",
    "            rgbimg, depth_img = make_observation(colored_result_mesh)\n",
    "            im_observation = Image.fromarray(rgbimg).resize([64,48]).crop(box=[5,15,60,38])\n",
    "        \n",
    "            image_filename = mytrmesh_fullpath.replace('obj_Meshes','png_Meshes').replace('.obj', '.png')    \n",
    "            save_obs=True\n",
    "            if(save_obs):\n",
    "                im_observation.save(image_filename)\n",
    "                "
   ]
  },
  {
   "cell_type": "code",
   "execution_count": null,
   "metadata": {},
   "outputs": [],
   "source": []
  }
 ],
 "metadata": {
  "kernelspec": {
   "display_name": "freecad_fem_env_meshlab",
   "language": "python",
   "name": "python3"
  },
  "language_info": {
   "codemirror_mode": {
    "name": "ipython",
    "version": 3
   },
   "file_extension": ".py",
   "mimetype": "text/x-python",
   "name": "python",
   "nbconvert_exporter": "python",
   "pygments_lexer": "ipython3",
   "version": "3.7.8"
  },
  "orig_nbformat": 4,
  "vscode": {
   "interpreter": {
    "hash": "0ed4b81fbdbfd550574d8d33871560ab85c36782770b79694cf7e782f0a3e28e"
   }
  }
 },
 "nbformat": 4,
 "nbformat_minor": 2
}
