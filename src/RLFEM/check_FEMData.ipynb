{
 "cells": [
  {
   "cell_type": "code",
   "execution_count": 1,
   "metadata": {},
   "outputs": [],
   "source": [
    "# env:freecad_fem_env_meshlab\n",
    "# import openpyxl\n",
    "# from openpyxl import Workbook\n",
    "import pandas as pd"
   ]
  },
  {
   "cell_type": "code",
   "execution_count": 2,
   "metadata": {},
   "outputs": [
    {
     "data": {
      "text/html": [
       "<div>\n",
       "<style scoped>\n",
       "    .dataframe tbody tr th:only-of-type {\n",
       "        vertical-align: middle;\n",
       "    }\n",
       "\n",
       "    .dataframe tbody tr th {\n",
       "        vertical-align: top;\n",
       "    }\n",
       "\n",
       "    .dataframe thead th {\n",
       "        text-align: right;\n",
       "    }\n",
       "</style>\n",
       "<table border=\"1\" class=\"dataframe\">\n",
       "  <thead>\n",
       "    <tr style=\"text-align: right;\">\n",
       "      <th></th>\n",
       "      <th>st</th>\n",
       "      <th>Fx</th>\n",
       "      <th>Fy</th>\n",
       "      <th>F</th>\n",
       "      <th>st_nxt</th>\n",
       "    </tr>\n",
       "  </thead>\n",
       "  <tbody>\n",
       "    <tr>\n",
       "      <th>0</th>\n",
       "      <td>Mesh0.obj</td>\n",
       "      <td>0</td>\n",
       "      <td>0</td>\n",
       "      <td>0</td>\n",
       "      <td>_20230209_003858_step_0.obj</td>\n",
       "    </tr>\n",
       "    <tr>\n",
       "      <th>1</th>\n",
       "      <td>_20230209_003858_step_0.obj</td>\n",
       "      <td>1</td>\n",
       "      <td>2</td>\n",
       "      <td>-311</td>\n",
       "      <td>_20230209_003859_step_1.obj</td>\n",
       "    </tr>\n",
       "    <tr>\n",
       "      <th>2</th>\n",
       "      <td>_20230209_003859_step_1.obj</td>\n",
       "      <td>7</td>\n",
       "      <td>2</td>\n",
       "      <td>-410</td>\n",
       "      <td>_20230209_003901_step_2.obj</td>\n",
       "    </tr>\n",
       "    <tr>\n",
       "      <th>3</th>\n",
       "      <td>_20230209_003901_step_2.obj</td>\n",
       "      <td>6</td>\n",
       "      <td>2</td>\n",
       "      <td>-257</td>\n",
       "      <td>_20230209_003902_step_3.obj</td>\n",
       "    </tr>\n",
       "    <tr>\n",
       "      <th>4</th>\n",
       "      <td>Mesh0.obj</td>\n",
       "      <td>4</td>\n",
       "      <td>2</td>\n",
       "      <td>-238</td>\n",
       "      <td>_20230209_003904_step_1.obj</td>\n",
       "    </tr>\n",
       "  </tbody>\n",
       "</table>\n",
       "</div>"
      ],
      "text/plain": [
       "                            st  Fx  Fy    F                       st_nxt\n",
       "0                    Mesh0.obj   0   0    0  _20230209_003858_step_0.obj\n",
       "1  _20230209_003858_step_0.obj   1   2 -311  _20230209_003859_step_1.obj\n",
       "2  _20230209_003859_step_1.obj   7   2 -410  _20230209_003901_step_2.obj\n",
       "3  _20230209_003901_step_2.obj   6   2 -257  _20230209_003902_step_3.obj\n",
       "4                    Mesh0.obj   4   2 -238  _20230209_003904_step_1.obj"
      ]
     },
     "execution_count": 2,
     "metadata": {},
     "output_type": "execute_result"
    }
   ],
   "source": [
    "xlsx_file = '/scratch/aifa/MyRepo/RL_FEM/gym_RLFEM/FreeCAD_RL_FEM_Environment/data/state_actions.xlsx'\n",
    "cols = ['st', 'Fx','Fy','F','st_nxt']\n",
    "df = pd.read_excel(xlsx_file, header=None, names = cols)\n",
    "\n",
    "df.head()"
   ]
  },
  {
   "cell_type": "code",
   "execution_count": 3,
   "metadata": {},
   "outputs": [],
   "source": [
    "df_mesh_list = df['st_nxt']\n",
    "df_mesh_list.to_hdf('/data/meshlist.h5', key='df', mode='w') "
   ]
  },
  {
   "cell_type": "code",
   "execution_count": 4,
   "metadata": {},
   "outputs": [
    {
     "data": {
      "text/plain": [
       "'_20230209_003906_step_2.obj'"
      ]
     },
     "execution_count": 4,
     "metadata": {},
     "output_type": "execute_result"
    }
   ],
   "source": [
    "df['st_nxt'].iloc[5]"
   ]
  },
  {
   "cell_type": "code",
   "execution_count": 5,
   "metadata": {},
   "outputs": [
    {
     "data": {
      "text/plain": [
       "<bound method DataFrame.info of                                 st  Fx  Fy    F                       st_nxt\n",
       "0                        Mesh0.obj   0   0    0  _20230209_003858_step_0.obj\n",
       "1      _20230209_003858_step_0.obj   1   2 -311  _20230209_003859_step_1.obj\n",
       "2      _20230209_003859_step_1.obj   7   2 -410  _20230209_003901_step_2.obj\n",
       "3      _20230209_003901_step_2.obj   6   2 -257  _20230209_003902_step_3.obj\n",
       "4                        Mesh0.obj   4   2 -238  _20230209_003904_step_1.obj\n",
       "...                            ...  ..  ..  ...                          ...\n",
       "18002  _20230210_000932_step_4.obj   9   2 -258  _20230210_000937_step_5.obj\n",
       "18003  _20230210_000937_step_5.obj   7   1 -284  _20230210_000942_step_6.obj\n",
       "18004  _20230210_000942_step_6.obj   9   1 -296  _20230210_000947_step_7.obj\n",
       "18005  _20230210_000947_step_7.obj   8   2 -166  _20230210_000952_step_8.obj\n",
       "18006  _20230210_000952_step_8.obj   9   2 -159  _20230210_000957_step_9.obj\n",
       "\n",
       "[18007 rows x 5 columns]>"
      ]
     },
     "execution_count": 5,
     "metadata": {},
     "output_type": "execute_result"
    }
   ],
   "source": [
    "df.info"
   ]
  },
  {
   "cell_type": "code",
   "execution_count": 9,
   "metadata": {},
   "outputs": [],
   "source": [
    "msh_labels = pd.read_hdf('../../data/meshlist.h5')"
   ]
  },
  {
   "cell_type": "code",
   "execution_count": 11,
   "metadata": {},
   "outputs": [
    {
     "data": {
      "text/plain": [
       "'_20230209_003858_step_0.obj'"
      ]
     },
     "execution_count": 11,
     "metadata": {},
     "output_type": "execute_result"
    }
   ],
   "source": [
    "msh_labels[0]"
   ]
  },
  {
   "cell_type": "code",
   "execution_count": null,
   "metadata": {},
   "outputs": [],
   "source": []
  }
 ],
 "metadata": {
  "kernelspec": {
   "display_name": "freecad_fem_env_meshlab",
   "language": "python",
   "name": "python3"
  },
  "language_info": {
   "codemirror_mode": {
    "name": "ipython",
    "version": 3
   },
   "file_extension": ".py",
   "mimetype": "text/x-python",
   "name": "python",
   "nbconvert_exporter": "python",
   "pygments_lexer": "ipython3",
   "version": "3.7.8"
  },
  "orig_nbformat": 4,
  "vscode": {
   "interpreter": {
    "hash": "0ed4b81fbdbfd550574d8d33871560ab85c36782770b79694cf7e782f0a3e28e"
   }
  }
 },
 "nbformat": 4,
 "nbformat_minor": 2
}
