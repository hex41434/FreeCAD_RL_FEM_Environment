{
 "cells": [
  {
   "cell_type": "code",
   "execution_count": 1,
   "metadata": {},
   "outputs": [
    {
     "name": "stdout",
     "output_type": "stream",
     "text": [
      "ccxtools_import_passed...\n"
     ]
    }
   ],
   "source": [
    "#env:freecad_fem_env_meshlab / new: freecad_gym\n",
    "%matplotlib inline\n",
    "import ctypes\n",
    "libgcc_s = ctypes.CDLL('libgcc_s.so.1')\n",
    "import gym \n",
    "from RLFEM import *\n",
    "from termcolor import colored\n",
    "import random"
   ]
  },
  {
   "cell_type": "code",
   "execution_count": 2,
   "metadata": {},
   "outputs": [
    {
     "name": "stdout",
     "output_type": "stream",
     "text": [
      "femmesh created from shape\n",
      "---------------------------\n",
      "Analysis,    --> <class 'App.DocumentObjectGroup'>\n",
      "CalculiXccxTools,    --> <class 'FeaturePython'>\n",
      "SolidMaterial,    --> <class 'FeaturePython'>\n",
      "Solid,    --> <class 'PrimitivePy'>\n",
      "FEMMeshNetgen,    --> <class 'App.DocumentObject'>\n",
      "FemConstraintFixed,    --> <class 'App.DocumentObject'>\n",
      "FemConstraintForce,    --> <class 'App.DocumentObject'>\n",
      "---------------------------\n",
      "cc:0\n",
      "+o+o+o+o+o+o+ .inp filename /scratch/aifa/MyRepo/RL_FEM/gym_RLFEM/FreeCAD_RL_FEM_Environment/src/RLFEM/my_inp_folder/FEMMeshNetgen.inp\n",
      "CCX_Results\n",
      "Mesh by surface search method:  0.29224400000000017\n",
      "+ . + . + . + . observation_image_size:3795\n",
      "old femmesh is removed...\n",
      "FemConstraints cleared...\n",
      "old solid result mesh is removed...\n",
      "removed: ResultMesh\n",
      "removed: CCX_Results\n",
      "femmesh created from shape\n",
      "---------------------------\n",
      "Analysis,    --> <class 'App.DocumentObjectGroup'>\n",
      "CalculiXccxTools,    --> <class 'FeaturePython'>\n",
      "SolidMaterial,    --> <class 'FeaturePython'>\n",
      "FemConstraintFixed,    --> <class 'App.DocumentObject'>\n",
      "FemConstraintForce,    --> <class 'App.DocumentObject'>\n",
      "Solid,    --> <class 'PrimitivePy'>\n",
      "FEMMeshNetgen,    --> <class 'App.DocumentObject'>\n",
      "FemConstraintFixed001,    --> <class 'App.DocumentObject'>\n",
      "FemConstraintForce001,    --> <class 'App.DocumentObject'>\n",
      "---------------------------\n",
      "cc:0\n",
      "+o+o+o+o+o+o+ .inp filename /scratch/aifa/MyRepo/RL_FEM/gym_RLFEM/FreeCAD_RL_FEM_Environment/src/RLFEM/my_inp_folder/FEMMeshNetgen.inp\n",
      "CCX_Results\n",
      "Mesh by surface search method:  0.28845600000000005\n",
      "step no:0\n",
      "+ . + . + . + . observation_image_size:3795\n"
     ]
    }
   ],
   "source": [
    "env = RLFEM(render_modes='human',\n",
    "            save_path = 'meshsave_tmp/',\n",
    "            loaded_mesh_path = 'data/',\n",
    "            loaded_mesh_filename = 'Fcad22_ver1.obj',\n",
    "            gt_mesh_path = '../../scripts/data/_20221213121013416030.obj',\n",
    "            view_meshes=True,\n",
    "            xls_pth= 'data/',\n",
    "            xls_filename='state_actions_2023.xlsx',\n",
    "            load_3d=True)"
   ]
  },
  {
   "cell_type": "code",
   "execution_count": 3,
   "metadata": {},
   "outputs": [
    {
     "data": {
      "image/png": "[encoded data removed]",
      "text/plain": [
       "<Figure size 432x288 with 1 Axes>"
      ]
     },
     "metadata": {},
     "output_type": "display_data"
    },
    {
     "name": "stdout",
     "output_type": "stream",
     "text": [
      "old femmesh is removed...\n",
      "FemConstraints cleared...\n",
      "old solid result mesh is removed...\n",
      "removed: FemConstraintFixed001\n",
      "removed: FemConstraintForce001\n",
      "removed: ResultMesh\n",
      "removed: CCX_Results\n",
      "femmesh created from shape\n",
      "---------------------------\n",
      "Analysis,    --> <class 'App.DocumentObjectGroup'>\n",
      "CalculiXccxTools,    --> <class 'FeaturePython'>\n",
      "SolidMaterial,    --> <class 'FeaturePython'>\n",
      "FemConstraintFixed,    --> <class 'App.DocumentObject'>\n",
      "FemConstraintForce,    --> <class 'App.DocumentObject'>\n",
      "Solid,    --> <class 'PrimitivePy'>\n",
      "FEMMeshNetgen,    --> <class 'App.DocumentObject'>\n",
      "FemConstraintFixed001,    --> <class 'App.DocumentObject'>\n",
      "FemConstraintForce001,    --> <class 'App.DocumentObject'>\n",
      "---------------------------\n",
      "cc:0\n",
      "+o+o+o+o+o+o+ .inp filename /scratch/aifa/MyRepo/RL_FEM/gym_RLFEM/FreeCAD_RL_FEM_Environment/src/RLFEM/my_inp_folder/FEMMeshNetgen.inp\n",
      "CCX_Results\n",
      "Mesh by surface search method:  0.4215030000000004\n",
      "step no:0\n",
      "+ . + . + . + . observation_image_size:3795\n"
     ]
    },
    {
     "data": {
      "image/png": "[encoded data removed]",
      "text/plain": [
       "<Figure size 432x288 with 1 Axes>"
      ]
     },
     "metadata": {},
     "output_type": "display_data"
    },
    {
     "name": "stdout",
     "output_type": "stream",
     "text": [
      "-1.5200000000000E+05 45 3\n"
     ]
    },
    {
     "ename": "IndexError",
     "evalue": "index 0 is out of bounds for axis 0 with size 0",
     "output_type": "error",
     "traceback": [
      "\u001b[0;31m---------------------------------------------------------------------------\u001b[0m",
      "\u001b[0;31mIndexError\u001b[0m                                Traceback (most recent call last)",
      "\u001b[0;32m<ipython-input-3-f9147403ddff>\u001b[0m in \u001b[0;36m<module>\u001b[0;34m\u001b[0m\n\u001b[1;32m     22\u001b[0m         \u001b[0;31m# action = env.action_space.sample()\u001b[0m\u001b[0;34m\u001b[0m\u001b[0;34m\u001b[0m\u001b[0;34m\u001b[0m\u001b[0m\n\u001b[1;32m     23\u001b[0m         \u001b[0maction\u001b[0m\u001b[0;34m=\u001b[0m\u001b[0;34m(\u001b[0m\u001b[0;36m45\u001b[0m\u001b[0;34m,\u001b[0m\u001b[0;36m3\u001b[0m\u001b[0;34m,\u001b[0m\u001b[0;34m-\u001b[0m\u001b[0;36m152000\u001b[0m\u001b[0;34m)\u001b[0m\u001b[0;34m\u001b[0m\u001b[0;34m\u001b[0m\u001b[0m\n\u001b[0;32m---> 24\u001b[0;31m         \u001b[0mobservation\u001b[0m\u001b[0;34m,\u001b[0m \u001b[0mreward\u001b[0m\u001b[0;34m,\u001b[0m \u001b[0mdone\u001b[0m\u001b[0;34m,\u001b[0m \u001b[0m_\u001b[0m \u001b[0;34m=\u001b[0m \u001b[0menv\u001b[0m\u001b[0;34m.\u001b[0m\u001b[0mstep\u001b[0m\u001b[0;34m(\u001b[0m\u001b[0maction\u001b[0m\u001b[0;34m)\u001b[0m\u001b[0;34m\u001b[0m\u001b[0;34m\u001b[0m\u001b[0m\n\u001b[0m\u001b[1;32m     25\u001b[0m         \u001b[0mscore\u001b[0m\u001b[0;34m+=\u001b[0m\u001b[0mreward\u001b[0m\u001b[0;34m\u001b[0m\u001b[0;34m\u001b[0m\u001b[0m\n\u001b[1;32m     26\u001b[0m     \u001b[0mprint\u001b[0m\u001b[0;34m(\u001b[0m\u001b[0mcolored\u001b[0m\u001b[0;34m(\u001b[0m\u001b[0;34mf'= = = = Episode:{episode} Score:{score}'\u001b[0m\u001b[0;34m,\u001b[0m\u001b[0;34m'green'\u001b[0m\u001b[0;34m)\u001b[0m\u001b[0;34m)\u001b[0m\u001b[0;34m\u001b[0m\u001b[0;34m\u001b[0m\u001b[0m\n",
      "\u001b[0;32m/scratch/aifa/MyRepo/RL_FEM/gym_RLFEM/FreeCAD_RL_FEM_Environment/src/RLFEM/RLFEM.py\u001b[0m in \u001b[0;36mstep\u001b[0;34m(self, action)\u001b[0m\n\u001b[1;32m     71\u001b[0m         \"\"\"\n\u001b[1;32m     72\u001b[0m \u001b[0;34m\u001b[0m\u001b[0m\n\u001b[0;32m---> 73\u001b[0;31m         \u001b[0mself\u001b[0m\u001b[0;34m.\u001b[0m\u001b[0minterface\u001b[0m\u001b[0;34m.\u001b[0m\u001b[0mcreate_fem_analysis\u001b[0m\u001b[0;34m(\u001b[0m\u001b[0maction\u001b[0m\u001b[0;34m)\u001b[0m\u001b[0;34m\u001b[0m\u001b[0;34m\u001b[0m\u001b[0m\n\u001b[0m\u001b[1;32m     74\u001b[0m         \u001b[0mself\u001b[0m\u001b[0;34m.\u001b[0m\u001b[0mdoc\u001b[0m\u001b[0;34m,\u001b[0m \u001b[0mself\u001b[0m\u001b[0;34m.\u001b[0m\u001b[0mfea\u001b[0m \u001b[0;34m=\u001b[0m \u001b[0mself\u001b[0m\u001b[0;34m.\u001b[0m\u001b[0minterface\u001b[0m\u001b[0;34m.\u001b[0m\u001b[0mrun_ccx_updated_inp\u001b[0m\u001b[0;34m(\u001b[0m\u001b[0;34m)\u001b[0m\u001b[0;34m\u001b[0m\u001b[0;34m\u001b[0m\u001b[0m\n\u001b[1;32m     75\u001b[0m \u001b[0;34m\u001b[0m\u001b[0m\n",
      "\u001b[0;32m/scratch/aifa/MyRepo/RL_FEM/gym_RLFEM/FreeCAD_RL_FEM_Environment/src/RLFEM/FreeCADWrapper.py\u001b[0m in \u001b[0;36mcreate_fem_analysis\u001b[0;34m(self, action)\u001b[0m\n\u001b[1;32m    111\u001b[0m         \u001b[0mself\u001b[0m\u001b[0;34m.\u001b[0m\u001b[0mfixed_scene\u001b[0m \u001b[0;34m=\u001b[0m \u001b[0;34m[\u001b[0m\u001b[0;34m]\u001b[0m\u001b[0;31m#self.add_constraints_to_scene_meshes(self.fixed_indx,color='blue')\u001b[0m\u001b[0;34m\u001b[0m\u001b[0;34m\u001b[0m\u001b[0m\n\u001b[1;32m    112\u001b[0m         \u001b[0mself\u001b[0m\u001b[0;34m.\u001b[0m\u001b[0mforce_scene\u001b[0m \u001b[0;34m=\u001b[0m \u001b[0;34m[\u001b[0m\u001b[0;34m]\u001b[0m\u001b[0;31m#self.add_constraints_to_scene_meshes(self.force_indx,color='red')\u001b[0m\u001b[0;34m\u001b[0m\u001b[0;34m\u001b[0m\u001b[0m\n\u001b[0;32m--> 113\u001b[0;31m         \u001b[0mself\u001b[0m\u001b[0;34m.\u001b[0m\u001b[0mconstraint_scene_meshes\u001b[0m\u001b[0;34m.\u001b[0m\u001b[0mappend\u001b[0m\u001b[0;34m(\u001b[0m\u001b[0mself\u001b[0m\u001b[0;34m.\u001b[0m\u001b[0mconcat_meshes\u001b[0m\u001b[0;34m(\u001b[0m\u001b[0mself\u001b[0m\u001b[0;34m.\u001b[0m\u001b[0mfixed_scene\u001b[0m\u001b[0;34m,\u001b[0m\u001b[0mself\u001b[0m\u001b[0;34m.\u001b[0m\u001b[0mforce_scene\u001b[0m\u001b[0;34m)\u001b[0m\u001b[0;34m)\u001b[0m\u001b[0;34m\u001b[0m\u001b[0;34m\u001b[0m\u001b[0m\n\u001b[0m\u001b[1;32m    114\u001b[0m \u001b[0;34m\u001b[0m\u001b[0m\n\u001b[1;32m    115\u001b[0m     \u001b[0;32mdef\u001b[0m \u001b[0mrun_ccx_updated_inp\u001b[0m\u001b[0;34m(\u001b[0m\u001b[0mself\u001b[0m\u001b[0;34m)\u001b[0m\u001b[0;34m:\u001b[0m\u001b[0;34m\u001b[0m\u001b[0;34m\u001b[0m\u001b[0m\n",
      "\u001b[0;32m/scratch/aifa/MyRepo/RL_FEM/gym_RLFEM/FreeCAD_RL_FEM_Environment/src/RLFEM/FreeCADWrapper.py\u001b[0m in \u001b[0;36mconcat_meshes\u001b[0;34m(self, mesh1, mesh2)\u001b[0m\n\u001b[1;32m    540\u001b[0m \u001b[0;34m\u001b[0m\u001b[0m\n\u001b[1;32m    541\u001b[0m     \u001b[0;32mdef\u001b[0m \u001b[0mconcat_meshes\u001b[0m\u001b[0;34m(\u001b[0m\u001b[0mself\u001b[0m\u001b[0;34m,\u001b[0m\u001b[0mmesh1\u001b[0m\u001b[0;34m,\u001b[0m\u001b[0mmesh2\u001b[0m\u001b[0;34m)\u001b[0m\u001b[0;34m:\u001b[0m\u001b[0;34m\u001b[0m\u001b[0;34m\u001b[0m\u001b[0m\n\u001b[0;32m--> 542\u001b[0;31m         \u001b[0mconcatenated_mesh\u001b[0m \u001b[0;34m=\u001b[0m \u001b[0mtrimesh\u001b[0m\u001b[0;34m.\u001b[0m\u001b[0mutil\u001b[0m\u001b[0;34m.\u001b[0m\u001b[0mconcatenate\u001b[0m\u001b[0;34m(\u001b[0m\u001b[0mmesh1\u001b[0m\u001b[0;34m,\u001b[0m\u001b[0mmesh2\u001b[0m\u001b[0;34m)\u001b[0m\u001b[0;34m\u001b[0m\u001b[0;34m\u001b[0m\u001b[0m\n\u001b[0m\u001b[1;32m    543\u001b[0m         \u001b[0;32mreturn\u001b[0m \u001b[0mconcatenated_mesh\u001b[0m\u001b[0;34m\u001b[0m\u001b[0;34m\u001b[0m\u001b[0m\n\u001b[1;32m    544\u001b[0m \u001b[0;34m\u001b[0m\u001b[0m\n",
      "\u001b[0;32m/work/aifa/miniconda3/envs/freecad_fem_env_meshlab/lib/python3.7/site-packages/trimesh/util.py\u001b[0m in \u001b[0;36mconcatenate\u001b[0;34m(a, b)\u001b[0m\n\u001b[1;32m   1513\u001b[0m     \u001b[0;31m# extract the trimesh type to avoid a circular import\u001b[0m\u001b[0;34m\u001b[0m\u001b[0;34m\u001b[0m\u001b[0;34m\u001b[0m\u001b[0m\n\u001b[1;32m   1514\u001b[0m     \u001b[0;31m# and assert that both inputs are Trimesh objects\u001b[0m\u001b[0;34m\u001b[0m\u001b[0;34m\u001b[0m\u001b[0;34m\u001b[0m\u001b[0m\n\u001b[0;32m-> 1515\u001b[0;31m     \u001b[0mtrimesh_type\u001b[0m \u001b[0;34m=\u001b[0m \u001b[0mtype_named\u001b[0m\u001b[0;34m(\u001b[0m\u001b[0mmeshes\u001b[0m\u001b[0;34m[\u001b[0m\u001b[0;36m0\u001b[0m\u001b[0;34m]\u001b[0m\u001b[0;34m,\u001b[0m \u001b[0;34m'Trimesh'\u001b[0m\u001b[0;34m)\u001b[0m\u001b[0;34m\u001b[0m\u001b[0;34m\u001b[0m\u001b[0m\n\u001b[0m\u001b[1;32m   1516\u001b[0m \u001b[0;34m\u001b[0m\u001b[0m\n\u001b[1;32m   1517\u001b[0m     \u001b[0;31m# append faces and vertices of meshes\u001b[0m\u001b[0;34m\u001b[0m\u001b[0;34m\u001b[0m\u001b[0;34m\u001b[0m\u001b[0m\n",
      "\u001b[0;31mIndexError\u001b[0m: index 0 is out of bounds for axis 0 with size 0"
     ]
    },
    {
     "data": {
      "image/png": "[encoded data removed]",
      "text/plain": [
       "<Figure size 432x288 with 1 Axes>"
      ]
     },
     "metadata": {
      "needs_background": "light"
     },
     "output_type": "display_data"
    }
   ],
   "source": [
    "import pylab as pl\n",
    "from IPython import display\n",
    "pl.clf()\n",
    "pl.imshow(env.render())\n",
    "display.display(pl.gcf())\n",
    "# display.clear_output(wait=True)\n",
    "\n",
    "episodes = 2\n",
    "for episode in range(1, episodes+1):\n",
    "    state = env.reset()\n",
    "    done = False\n",
    "    score = 0 \n",
    "    \n",
    "    while not done:\n",
    "        obs = env.render()\n",
    "        \n",
    "        # pl.clf()\n",
    "        pl.imshow(obs)  \n",
    "        display.display(pl.gcf())\n",
    "        # display.clear_output(wait=True)\n",
    "        \n",
    "        # action = env.action_space.sample()\n",
    "        action=(random.randint(20,80),3,-152000)\n",
    "        observation, reward, done, _ = env.step(action)\n",
    "        score+=reward\n",
    "    print(colored(f'= = = = Episode:{episode} Score:{score}','green'))\n",
    "\n",
    "env.close()\n",
    "print(colored('Done!','red'))"
   ]
  },
  {
   "cell_type": "code",
   "execution_count": null,
   "metadata": {},
   "outputs": [],
   "source": [
    "env.action_space.sample()"
   ]
  },
  {
   "cell_type": "code",
   "execution_count": null,
   "metadata": {},
   "outputs": [],
   "source": [
    "from gym.spaces import Box, Discrete, Dict\n",
    "\n",
    "action_space = Dict({\"Fx\": Box(20, 80, shape=(1,)), \"Fy\": Box(2, 4, shape=(1,)) , \"F\": Box(10000, 20000, shape=(1,))})\n",
    "action = action_space.sample()"
   ]
  },
  {
   "cell_type": "code",
   "execution_count": null,
   "metadata": {},
   "outputs": [],
   "source": [
    "action.keys() , action.values()"
   ]
  },
  {
   "cell_type": "code",
   "execution_count": 10,
   "metadata": {},
   "outputs": [
    {
     "data": {
      "text/plain": [
       "75"
      ]
     },
     "execution_count": 10,
     "metadata": {},
     "output_type": "execute_result"
    }
   ],
   "source": []
  },
  {
   "cell_type": "code",
   "execution_count": null,
   "metadata": {},
   "outputs": [],
   "source": []
  }
 ],
 "metadata": {
  "kernelspec": {
   "display_name": "freecad_fem_env_meshlab",
   "language": "python",
   "name": "python3"
  },
  "language_info": {
   "codemirror_mode": {
    "name": "ipython",
    "version": 3
   },
   "file_extension": ".py",
   "mimetype": "text/x-python",
   "name": "python",
   "nbconvert_exporter": "python",
   "pygments_lexer": "ipython3",
   "version": "3.7.8"
  },
  "orig_nbformat": 4,
  "vscode": {
   "interpreter": {
    "hash": "0ed4b81fbdbfd550574d8d33871560ab85c36782770b79694cf7e782f0a3e28e"
   }
  }
 },
 "nbformat": 4,
 "nbformat_minor": 2
}
