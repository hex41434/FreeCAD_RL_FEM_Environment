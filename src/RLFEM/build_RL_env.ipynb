{
 "cells": [
  {
   "cell_type": "code",
   "execution_count": null,
   "metadata": {},
   "outputs": [],
   "source": [
    "# env:freecad_fem_env_meshlab \n",
    "# generate random actions and make data for training the CoMA  \n",
    "# %matplotlib inline\n",
    "import ctypes\n",
    "libgcc_s = ctypes.CDLL('libgcc_s.so.1')\n",
    "import gym \n",
    "from RLFEM import *\n",
    "from termcolor import colored\n",
    "import random\n",
    "\n",
    "import pylab as pl\n",
    "from IPython import display\n",
    "import matplotlib.pyplot as plt "
   ]
  },
  {
   "cell_type": "code",
   "execution_count": null,
   "metadata": {},
   "outputs": [],
   "source": [
    "#TODO read from yml or here?! TODO TODO TODO \n",
    "env = RLFEM(render_modes='human',\n",
    "            save_path = '<savepath load from yml >',\n",
    "            loaded_mesh_path = '',\n",
    "            loaded_mesh_filename = '',\n",
    "            gt_mesh_path = '',\n",
    "            view_meshes=True,\n",
    "            xls_pth= 'read from yml',\n",
    "            xls_filename='read from yml',\n",
    "            load_3d=False)\n",
    "\n",
    "print(colored('Print has been disabled!','red'))"
   ]
  },
  {
   "cell_type": "code",
   "execution_count": null,
   "metadata": {},
   "outputs": [],
   "source": []
  },
  {
   "cell_type": "code",
   "execution_count": null,
   "metadata": {},
   "outputs": [],
   "source": [
    "# %%capture\n",
    "\n",
    "def define_action():\n",
    "    h = int(env.interface.doc.getObject('Solid').Height)\n",
    "    w = int(env.interface.doc.getObject('Solid').Width)\n",
    "    l = int(env.interface.doc.getObject('Solid').Length)\n",
    "    print(f'cube : w:{w}, l:{l}, h:{h}')\n",
    "    \n",
    "    min_l = 1\n",
    "    max_l = l-1\n",
    "    min_w = 1\n",
    "    max_w = w-1\n",
    "    \n",
    "    # direction -/+ 400 is a bigger force than 100!\n",
    "    material='PET'\n",
    "    F_min = -1500 #-1300 \n",
    "    F_max = -400\n",
    "    \n",
    "    return min_l, max_l,min_w,max_w,F_min,F_max\n",
    "\n",
    "def generate_random_action(min_l,max_l,min_w,max_w,F_min,F_max):\n",
    "    # Fx = round(random.uniform(min_l,max_l), 2)\n",
    "    # Fy = round(random.uniform(min_w,max_w), 2)\n",
    "    F = random.randint(F_min,F_max)\n",
    "    Fx = random.randint(min_l,max_l)\n",
    "    Fy = random.randint(min_w,max_w)\n",
    "    action = (Fx,Fy,F)\n",
    "    return action"
   ]
  },
  {
   "cell_type": "code",
   "execution_count": null,
   "metadata": {},
   "outputs": [],
   "source": [
    "# %%capture\n",
    "\n",
    "min_l,max_l,min_w,max_w,F_min,F_max = define_action()\n",
    "\n",
    "episodes = 3000\n",
    "for episode in range(1, episodes+1):\n",
    "    done = False\n",
    "    while not done:\n",
    "    \n",
    "        action = generate_random_action(min_l, max_l,min_w,max_w,F_min,F_max)\n",
    "        next_state_trimesh, reward, done, _ = env.step(action)\n",
    "        \n",
    "    print(colored(f'= = = = Episode:{episode} ended...','yellow'))\n",
    "    env.reset()\n",
    "    done = False\n",
    "\n",
    "env.close()\n",
    "print(colored('Done!','red'))"
   ]
  },
  {
   "cell_type": "code",
   "execution_count": null,
   "metadata": {},
   "outputs": [],
   "source": [
    "print(colored('Done!','red'))"
   ]
  }
 ],
 "metadata": {
  "kernelspec": {
   "display_name": "freecad_fem_env_meshlab",
   "language": "python",
   "name": "python3"
  },
  "language_info": {
   "codemirror_mode": {
    "name": "ipython",
    "version": 3
   },
   "file_extension": ".py",
   "mimetype": "text/x-python",
   "name": "python",
   "nbconvert_exporter": "python",
   "pygments_lexer": "ipython3",
   "version": "3.7.8"
  },
  "orig_nbformat": 4,
  "vscode": {
   "interpreter": {
    "hash": "0ed4b81fbdbfd550574d8d33871560ab85c36782770b79694cf7e782f0a3e28e"
   }
  }
 },
 "nbformat": 4,
 "nbformat_minor": 2
}
