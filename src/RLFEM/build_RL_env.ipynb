{
 "cells": [
  {
   "cell_type": "code",
   "execution_count": null,
   "metadata": {},
   "outputs": [],
   "source": [
    "#env:freecad_fem_env_meshlab / new: freecad_gym\n",
    "import ctypes\n",
    "libgcc_s = ctypes.CDLL('libgcc_s.so.1')\n",
    "import gym \n",
    "from RLFEM import *\n",
    "from termcolor import colored"
   ]
  },
  {
   "cell_type": "code",
   "execution_count": null,
   "metadata": {},
   "outputs": [],
   "source": [
    "env = RLFEM(render_modes='human',\n",
    "            save_path = 'meshsave_tmp/',\n",
    "            loaded_mesh_path = 'data/',\n",
    "            loaded_mesh_filename = 'Fcad22_ver1.obj',\n",
    "            gt_mesh_path = '../../scripts/data/_20221213121013416030.obj',\n",
    "            view_meshes=True,\n",
    "            xls_pth= 'data/',\n",
    "            xls_filename='state_actions_2023.xlsx',\n",
    "            load_3d=True)"
   ]
  },
  {
   "cell_type": "code",
   "execution_count": null,
   "metadata": {},
   "outputs": [],
   "source": [
    "episodes = 2\n",
    "for episode in range(1, episodes+1):\n",
    "    state = env.reset()\n",
    "    done = False\n",
    "    score = 0 \n",
    "    \n",
    "    while not done:\n",
    "        env.render()\n",
    "        action = env.action_space.sample()\n",
    "        n_state, reward, done, _ = env.step(action)\n",
    "        score+=reward\n",
    "    print(colored(f'= = = = Episode:{episode} Score:{score}','green'))\n",
    "\n",
    "env.close()\n",
    "print(colored('Done!','red'))"
   ]
  },
  {
   "cell_type": "code",
   "execution_count": null,
   "metadata": {},
   "outputs": [],
   "source": []
  }
 ],
 "metadata": {
  "kernelspec": {
   "display_name": "freecad_gym",
   "language": "python",
   "name": "python3"
  },
  "language_info": {
   "codemirror_mode": {
    "name": "ipython",
    "version": 3
   },
   "file_extension": ".py",
   "mimetype": "text/x-python",
   "name": "python",
   "nbconvert_exporter": "python",
   "pygments_lexer": "ipython3",
   "version": "3.7.8"
  },
  "orig_nbformat": 4,
  "vscode": {
   "interpreter": {
    "hash": "06dde31c0b46c84769695c4375a87be89154a9f8173304e4ccb83bb0e3358020"
   }
  }
 },
 "nbformat": 4,
 "nbformat_minor": 2
}
