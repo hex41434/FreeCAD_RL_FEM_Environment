{
 "cells": [
  {
   "cell_type": "code",
   "execution_count": 1,
   "metadata": {},
   "outputs": [
    {
     "name": "stdout",
     "output_type": "stream",
     "text": [
      "ccxtools_import_passed...\n"
     ]
    }
   ],
   "source": [
    "#env:freecad_fem_env_meshlab / new: freecad_gym\n",
    "%matplotlib inline\n",
    "import ctypes\n",
    "libgcc_s = ctypes.CDLL('libgcc_s.so.1')\n",
    "import gym \n",
    "from RLFEM import *\n",
    "from termcolor import colored\n",
    "import random"
   ]
  },
  {
   "cell_type": "code",
   "execution_count": 2,
   "metadata": {},
   "outputs": [
    {
     "name": "stdout",
     "output_type": "stream",
     "text": [
      "femmesh created from shape\n",
      "---------------------------\n",
      "Analysis,    --> <class 'App.DocumentObjectGroup'>\n",
      "CalculiXccxTools,    --> <class 'FeaturePython'>\n",
      "SolidMaterial,    --> <class 'FeaturePython'>\n",
      "Solid,    --> <class 'PrimitivePy'>\n",
      "FEMMeshNetgen,    --> <class 'App.DocumentObject'>\n",
      "FemConstraintFixed,    --> <class 'App.DocumentObject'>\n",
      "FemConstraintForce,    --> <class 'App.DocumentObject'>\n",
      "---------------------------\n",
      "cc:0\n",
      "+o+o+o+o+o+o+ .inp filename /scratch/aifa/MyRepo/RL_FEM/gym_RLFEM/FreeCAD_RL_FEM_Environment/src/RLFEM/my_inp_folder/FEMMeshNetgen.inp\n",
      "CCX_Results\n",
      "Mesh by surface search method:  0.6108310000000001\n",
      "+ . + . + . + . observation_image_size:3795\n",
      "removed: Solid\n",
      "removed: FEMMeshNetgen\n",
      "removed: FemConstraintFixed\n",
      "removed: FemConstraintForce\n",
      "removed: ResultMesh\n",
      "removed: CCX_Results\n",
      "femmesh created from shape\n",
      "---------------------------\n",
      "Analysis,    --> <class 'App.DocumentObjectGroup'>\n",
      "CalculiXccxTools,    --> <class 'FeaturePython'>\n",
      "SolidMaterial,    --> <class 'FeaturePython'>\n",
      "Solid,    --> <class 'PrimitivePy'>\n",
      "FEMMeshNetgen,    --> <class 'App.DocumentObject'>\n",
      "FemConstraintFixed,    --> <class 'App.DocumentObject'>\n",
      "FemConstraintForce,    --> <class 'App.DocumentObject'>\n",
      "---------------------------\n",
      "cc:0\n",
      "+o+o+o+o+o+o+ .inp filename /scratch/aifa/MyRepo/RL_FEM/gym_RLFEM/FreeCAD_RL_FEM_Environment/src/RLFEM/my_inp_folder/FEMMeshNetgen.inp\n",
      "CCX_Results\n",
      "Mesh by surface search method:  0.6177659999999996\n",
      "step no:0\n",
      "+ . + . + . + . observation_image_size:3795\n"
     ]
    }
   ],
   "source": [
    "env = RLFEM(render_modes='human',\n",
    "            save_path = 'meshsave_tmp/',\n",
    "            loaded_mesh_path = 'data/',\n",
    "            loaded_mesh_filename = 'Fcad22_ver1.obj',\n",
    "            gt_mesh_path = '../../scripts/data/_20221213121013416030.obj',\n",
    "            view_meshes=True,\n",
    "            xls_pth= 'data/',\n",
    "            xls_filename='state_actions_2023.xlsx',\n",
    "            load_3d=True)"
   ]
  },
  {
   "cell_type": "code",
   "execution_count": 3,
   "metadata": {},
   "outputs": [
    {
     "name": "stdout",
     "output_type": "stream",
     "text": [
      "-3.5400000000000E+02 7 2\n",
      "0\n",
      "CCX_Results\n",
      "Mesh by surface search method:  0.6704999999999997\n",
      "state_info : initBox_(7, 2, -354)\n",
      "file is saved: ../../scripts/meshsave_tmp/_20230207_141052_step_0.obj\n",
      "=============921600\n",
      "+=+=++=+=+=+=+=+= observation_image_size:3795\n",
      "     +++ Mesh is healthy!  +++ \n",
      "step_no- th:1\n",
      "reward:0.8739886810975738\n",
      "+ . + . + . + . observation_image_size:3795\n"
     ]
    },
    {
     "data": {
      "image/png": "[encoded data removed]",
      "text/plain": [
       "<Figure size 432x288 with 1 Axes>"
      ]
     },
     "metadata": {},
     "output_type": "display_data"
    },
    {
     "name": "stdout",
     "output_type": "stream",
     "text": [
      "-1.1900000000000E+02 4 3\n",
      "0\n",
      "CCX_Results\n",
      "Mesh by surface search method:  0.604876\n",
      "state_info : initBox_(4, 3, -119)\n",
      "file is saved: ../../scripts/meshsave_tmp/_20230207_141117_step_1.obj\n",
      "=============921600\n",
      "+=+=++=+=+=+=+=+= observation_image_size:3795\n",
      "     +++ Mesh is healthy!  +++ \n",
      "step_no- th:2\n",
      "reward:0.15097855777758418\n",
      "+ . + . + . + . observation_image_size:3795\n"
     ]
    },
    {
     "data": {
      "image/png": "[encoded data removed]",
      "text/plain": [
       "<Figure size 432x288 with 1 Axes>"
      ]
     },
     "metadata": {},
     "output_type": "display_data"
    },
    {
     "name": "stdout",
     "output_type": "stream",
     "text": [
      "-1.5200000000000E+02 3 2\n",
      "0\n",
      "CCX_Results\n",
      "Mesh by surface search method:  0.610042\n",
      "state_info : initBox_(3, 2, -152)\n",
      "file is saved: ../../scripts/meshsave_tmp/_20230207_141119_step_2.obj\n",
      "=============921600\n",
      "+=+=++=+=+=+=+=+= observation_image_size:3795\n",
      "     +++ Mesh is healthy!  +++ \n",
      "step_no- th:3\n",
      "reward:0.609774193037839\n",
      "+ . + . + . + . observation_image_size:3795\n"
     ]
    },
    {
     "data": {
      "image/png": "[encoded data removed]",
      "text/plain": [
       "<Figure size 432x288 with 1 Axes>"
      ]
     },
     "metadata": {},
     "output_type": "display_data"
    },
    {
     "name": "stdout",
     "output_type": "stream",
     "text": [
      "-2.8700000000000E+02 8 3\n",
      "0\n",
      "CCX_Results\n",
      "Mesh by surface search method:  0.6035959999999996\n",
      "state_info : initBox_(8, 3, -287)\n",
      "file is saved: ../../scripts/meshsave_tmp/_20230207_141121_step_3.obj\n",
      "=============921600\n",
      "+=+=++=+=+=+=+=+= observation_image_size:3795\n",
      "     +++ Mesh is healthy!  +++ \n",
      "step_no- th:4\n",
      "reward:0.1389397736246355\n",
      "+ . + . + . + . observation_image_size:3795\n"
     ]
    },
    {
     "data": {
      "image/png": "[encoded data removed]",
      "text/plain": [
       "<Figure size 432x288 with 1 Axes>"
      ]
     },
     "metadata": {},
     "output_type": "display_data"
    },
    {
     "name": "stdout",
     "output_type": "stream",
     "text": [
      "-2.3300000000000E+02 3 4\n",
      "0\n",
      "CCX_Results\n",
      "Mesh by surface search method:  0.3580629999999996\n",
      "state_info : initBox_(3, 4, -233)\n",
      "file is saved: ../../scripts/meshsave_tmp/_20230207_141122_step_4.obj\n",
      "=============921600\n",
      "+=+=++=+=+=+=+=+= observation_image_size:3795\n",
      "     +++ Mesh is healthy!  +++ \n",
      "step_no- th:5\n",
      "reward:0.44352527174562806\n",
      "+ . + . + . + . observation_image_size:3795\n"
     ]
    },
    {
     "data": {
      "image/png": "[encoded data removed]",
      "text/plain": [
       "<Figure size 432x288 with 1 Axes>"
      ]
     },
     "metadata": {},
     "output_type": "display_data"
    },
    {
     "name": "stdout",
     "output_type": "stream",
     "text": [
      "-3.6500000000000E+02 3 4\n",
      "0\n",
      "CCX_Results\n",
      "Mesh by surface search method:  0.3285260000000001\n",
      "state_info : initBox_(3, 4, -365)\n",
      "file is saved: ../../scripts/meshsave_tmp/_20230207_141124_step_5.obj\n",
      "=============921600\n",
      "+=+=++=+=+=+=+=+= observation_image_size:3795\n",
      "     +++ Mesh is healthy!  +++ \n",
      "step_no- th:6\n",
      "reward:0.5823748541905515\n",
      "+ . + . + . + . observation_image_size:3795\n"
     ]
    },
    {
     "data": {
      "image/png": "[encoded data removed]",
      "text/plain": [
       "<Figure size 432x288 with 1 Axes>"
      ]
     },
     "metadata": {},
     "output_type": "display_data"
    },
    {
     "name": "stdout",
     "output_type": "stream",
     "text": [
      "-3.0300000000000E+02 7 2\n",
      "0\n",
      "CCX_Results\n",
      "Mesh by surface search method:  0.6105160000000005\n",
      "state_info : initBox_(7, 2, -303)\n",
      "file is saved: ../../scripts/meshsave_tmp/_20230207_141125_step_6.obj\n",
      "=============921600\n",
      "+=+=++=+=+=+=+=+= observation_image_size:3795\n",
      "     +++ Mesh is healthy!  +++ \n",
      "step_no- th:7\n",
      "reward:0.4007790247746885\n",
      "mesh quality: True\n",
      "+ . + . + . + . observation_image_size:3795\n"
     ]
    },
    {
     "data": {
      "image/png": "[encoded data removed]",
      "text/plain": [
       "<Figure size 432x288 with 1 Axes>"
      ]
     },
     "metadata": {},
     "output_type": "display_data"
    },
    {
     "name": "stdout",
     "output_type": "stream",
     "text": [
      "= = = = Episode:1 Score:3.2003603562485003\n",
      "removed: Solid\n",
      "removed: FEMMeshNetgen\n",
      "removed: FemConstraintFixed\n",
      "removed: FemConstraintForce\n",
      "removed: ResultMesh\n",
      "removed: CCX_Results\n",
      "femmesh created from shape\n",
      "---------------------------\n",
      "Analysis,    --> <class 'App.DocumentObjectGroup'>\n",
      "CalculiXccxTools,    --> <class 'FeaturePython'>\n",
      "SolidMaterial,    --> <class 'FeaturePython'>\n",
      "Solid,    --> <class 'PrimitivePy'>\n",
      "FEMMeshNetgen,    --> <class 'App.DocumentObject'>\n",
      "FemConstraintFixed,    --> <class 'App.DocumentObject'>\n",
      "FemConstraintForce,    --> <class 'App.DocumentObject'>\n",
      "---------------------------\n",
      "cc:0\n",
      "+o+o+o+o+o+o+ .inp filename /scratch/aifa/MyRepo/RL_FEM/gym_RLFEM/FreeCAD_RL_FEM_Environment/src/RLFEM/my_inp_folder/FEMMeshNetgen.inp\n",
      "CCX_Results\n",
      "Mesh by surface search method:  0.6166279999999986\n",
      "step no:0\n",
      "+ . + . + . + . observation_image_size:3795\n",
      "-2.1600000000000E+02 2 2\n",
      "0\n",
      "CCX_Results\n",
      "Mesh by surface search method:  0.6201690000000006\n",
      "state_info : initBox_(2, 2, -216)\n",
      "file is saved: ../../scripts/meshsave_tmp/_20230207_141129_step_0.obj\n",
      "=============921600\n",
      "+=+=++=+=+=+=+=+= observation_image_size:3795\n",
      "     +++ Mesh is healthy!  +++ \n",
      "step_no- th:1\n",
      "reward:0.8744559300833786\n",
      "+ . + . + . + . observation_image_size:3795\n"
     ]
    },
    {
     "data": {
      "image/png": "[encoded data removed]",
      "text/plain": [
       "<Figure size 432x288 with 1 Axes>"
      ]
     },
     "metadata": {},
     "output_type": "display_data"
    },
    {
     "name": "stdout",
     "output_type": "stream",
     "text": [
      "-1.7500000000000E+02 9 4\n",
      "0\n",
      "CCX_Results\n",
      "Mesh by surface search method:  0.33380299999999963\n",
      "state_info : initBox_(9, 4, -175)\n",
      "file is saved: ../../scripts/meshsave_tmp/_20230207_141130_step_1.obj\n",
      "=============921600\n",
      "+=+=++=+=+=+=+=+= observation_image_size:3795\n",
      "     +++ Mesh is healthy!  +++ \n",
      "step_no- th:2\n",
      "reward:0.6198227442523484\n",
      "+ . + . + . + . observation_image_size:3795\n"
     ]
    },
    {
     "data": {
      "image/png": "[encoded data removed]",
      "text/plain": [
       "<Figure size 432x288 with 1 Axes>"
      ]
     },
     "metadata": {},
     "output_type": "display_data"
    },
    {
     "name": "stdout",
     "output_type": "stream",
     "text": [
      "-2.2300000000000E+02 6 4\n",
      "0\n",
      "CCX_Results\n",
      "Mesh by surface search method:  0.3323280000000004\n",
      "state_info : initBox_(6, 4, -223)\n",
      "file is saved: ../../scripts/meshsave_tmp/_20230207_141132_step_2.obj\n",
      "=============921600\n",
      "+=+=++=+=+=+=+=+= observation_image_size:3795\n",
      "     +++ Mesh is healthy!  +++ \n",
      "step_no- th:3\n",
      "reward:0.5838138501376468\n",
      "+ . + . + . + . observation_image_size:3795\n"
     ]
    },
    {
     "data": {
      "image/png": "[encoded data removed]",
      "text/plain": [
       "<Figure size 432x288 with 1 Axes>"
      ]
     },
     "metadata": {},
     "output_type": "display_data"
    },
    {
     "name": "stdout",
     "output_type": "stream",
     "text": [
      "-2.3200000000000E+02 3 2\n",
      "0\n",
      "CCX_Results\n",
      "Mesh by surface search method:  0.6273400000000002\n",
      "state_info : initBox_(3, 2, -232)\n",
      "file is saved: ../../scripts/meshsave_tmp/_20230207_141134_step_3.obj\n",
      "=============921600\n",
      "+=+=++=+=+=+=+=+= observation_image_size:3795\n",
      "     +++ Mesh is healthy!  +++ \n",
      "step_no- th:4\n",
      "reward:0.6347255904406771\n",
      "+ . + . + . + . observation_image_size:3795\n"
     ]
    },
    {
     "data": {
      "image/png": "[encoded data removed]",
      "text/plain": [
       "<Figure size 432x288 with 1 Axes>"
      ]
     },
     "metadata": {},
     "output_type": "display_data"
    },
    {
     "name": "stdout",
     "output_type": "stream",
     "text": [
      "-2.2600000000000E+02 1 2\n",
      "0\n",
      "CCX_Results\n",
      "Mesh by surface search method:  0.606151999999998\n",
      "state_info : initBox_(1, 2, -226)\n",
      "file is saved: ../../scripts/meshsave_tmp/_20230207_141135_step_4.obj\n",
      "=============921600\n",
      "+=+=++=+=+=+=+=+= observation_image_size:3795\n",
      "     +++ Mesh is healthy!  +++ \n",
      "step_no- th:5\n",
      "reward:0.8772593741722062\n",
      "+ . + . + . + . observation_image_size:3795\n"
     ]
    },
    {
     "data": {
      "image/png": "[encoded data removed]",
      "text/plain": [
       "<Figure size 432x288 with 1 Axes>"
      ]
     },
     "metadata": {},
     "output_type": "display_data"
    },
    {
     "name": "stdout",
     "output_type": "stream",
     "text": [
      "-1.2600000000000E+02 5 3\n",
      "0\n",
      "CCX_Results\n",
      "Mesh by surface search method:  0.6145969999999998\n",
      "state_info : initBox_(5, 3, -126)\n",
      "file is saved: ../../scripts/meshsave_tmp/_20230207_141137_step_5.obj\n",
      "=============921600\n",
      "+=+=++=+=+=+=+=+= observation_image_size:3795\n",
      "     +++ Mesh is healthy!  +++ \n",
      "step_no- th:6\n",
      "reward:0.9746921282345964\n",
      "+ . + . + . + . observation_image_size:3795\n"
     ]
    },
    {
     "data": {
      "image/png": "[encoded data removed]",
      "text/plain": [
       "<Figure size 432x288 with 1 Axes>"
      ]
     },
     "metadata": {},
     "output_type": "display_data"
    },
    {
     "name": "stdout",
     "output_type": "stream",
     "text": [
      "-3.9700000000000E+02 4 2\n",
      "0\n",
      "CCX_Results\n",
      "Mesh by surface search method:  0.6085829999999994\n",
      "state_info : initBox_(4, 2, -397)\n",
      "file is saved: ../../scripts/meshsave_tmp/_20230207_141139_step_6.obj\n",
      "=============921600\n",
      "+=+=++=+=+=+=+=+= observation_image_size:3795\n",
      "     +++ Mesh is healthy!  +++ \n",
      "step_no- th:7\n",
      "reward:0.4353046156994411\n",
      "mesh quality: True\n",
      "+ . + . + . + . observation_image_size:3795\n"
     ]
    },
    {
     "data": {
      "image/png": "[encoded data removed]",
      "text/plain": [
       "<Figure size 432x288 with 1 Axes>"
      ]
     },
     "metadata": {},
     "output_type": "display_data"
    },
    {
     "name": "stdout",
     "output_type": "stream",
     "text": [
      "= = = = Episode:2 Score:5.000074233020295\n",
      "removed: Solid\n",
      "removed: FEMMeshNetgen\n",
      "removed: FemConstraintFixed\n",
      "removed: FemConstraintForce\n",
      "removed: ResultMesh\n",
      "removed: CCX_Results\n",
      "femmesh created from shape\n",
      "---------------------------\n",
      "Analysis,    --> <class 'App.DocumentObjectGroup'>\n",
      "CalculiXccxTools,    --> <class 'FeaturePython'>\n",
      "SolidMaterial,    --> <class 'FeaturePython'>\n",
      "Solid,    --> <class 'PrimitivePy'>\n",
      "FEMMeshNetgen,    --> <class 'App.DocumentObject'>\n",
      "FemConstraintFixed,    --> <class 'App.DocumentObject'>\n",
      "FemConstraintForce,    --> <class 'App.DocumentObject'>\n",
      "---------------------------\n",
      "cc:0\n",
      "+o+o+o+o+o+o+ .inp filename /scratch/aifa/MyRepo/RL_FEM/gym_RLFEM/FreeCAD_RL_FEM_Environment/src/RLFEM/my_inp_folder/FEMMeshNetgen.inp\n",
      "CCX_Results\n",
      "Mesh by surface search method:  0.6121940000000023\n",
      "step no:0\n",
      "+ . + . + . + . observation_image_size:3795\n",
      "Done!\n"
     ]
    },
    {
     "data": {
      "image/png": "[encoded data removed]",
      "text/plain": [
       "<Figure size 432x288 with 1 Axes>"
      ]
     },
     "metadata": {
      "needs_background": "light"
     },
     "output_type": "display_data"
    }
   ],
   "source": [
    "import pylab as pl\n",
    "from IPython import display\n",
    "import matplotlib.pyplot as plt \n",
    "# print output on/off\n",
    "# display.clear_output(wait=True)\n",
    "\n",
    "episodes = 2\n",
    "for episode in range(1, episodes+1):\n",
    "\n",
    "    done = False\n",
    "    score = 0 \n",
    "    \n",
    "    while not done:\n",
    "        \n",
    "        action=(random.randint(1,9),random.randint(2,4),random.randint(-400,-100))\n",
    "        observation, reward, done, _ = env.step(action)\n",
    "        score+=reward\n",
    "        \n",
    "        # pl.clf()\n",
    "        pl.imshow(observation)  \n",
    "        display.display(pl.gcf())\n",
    "        # display.clear_output(wait=True)\n",
    "        \n",
    "    print(colored(f'= = = = Episode:{episode} Score:{score}','green'))\n",
    "    state = env.reset()\n",
    "    done = False\n",
    "    score = 0 \n",
    "    \n",
    "\n",
    "env.close()\n",
    "print(colored('Done!','red'))"
   ]
  },
  {
   "cell_type": "code",
   "execution_count": 4,
   "metadata": {},
   "outputs": [
    {
     "data": {
      "text/plain": [
       "array([[78, 58, 60]], dtype=uint8)"
      ]
     },
     "execution_count": 4,
     "metadata": {},
     "output_type": "execute_result"
    }
   ],
   "source": [
    "env.action_space.sample()"
   ]
  },
  {
   "cell_type": "code",
   "execution_count": 5,
   "metadata": {},
   "outputs": [],
   "source": [
    "from gym.spaces import Box, Discrete, Dict\n",
    "\n",
    "action_space = Dict({\"Fx\": Box(20, 80, shape=(1,)), \"Fy\": Box(2, 4, shape=(1,)) , \"F\": Box(10000, 20000, shape=(1,))})\n",
    "action = action_space.sample()"
   ]
  },
  {
   "cell_type": "code",
   "execution_count": 6,
   "metadata": {},
   "outputs": [
    {
     "data": {
      "text/plain": [
       "(odict_keys(['F', 'Fx', 'Fy']),\n",
       " odict_values([array([12786.499], dtype=float32), array([33.888023], dtype=float32), array([2.1998744], dtype=float32)]))"
      ]
     },
     "execution_count": 6,
     "metadata": {},
     "output_type": "execute_result"
    }
   ],
   "source": [
    "action.keys() , action.values()"
   ]
  },
  {
   "cell_type": "code",
   "execution_count": 7,
   "metadata": {},
   "outputs": [
    {
     "name": "stdout",
     "output_type": "stream",
     "text": [
      "---------------------------\n",
      "Analysis,    --> <class 'App.DocumentObjectGroup'>\n",
      "CalculiXccxTools,    --> <class 'FeaturePython'>\n",
      "SolidMaterial,    --> <class 'FeaturePython'>\n",
      "Solid,    --> <class 'PrimitivePy'>\n",
      "FEMMeshNetgen,    --> <class 'App.DocumentObject'>\n",
      "FemConstraintFixed,    --> <class 'App.DocumentObject'>\n",
      "FemConstraintForce,    --> <class 'App.DocumentObject'>\n",
      "ResultMesh,    --> <class 'FeaturePython'>\n",
      "CCX_Results,    --> <class 'FeaturePython'>\n",
      "---------------------------\n"
     ]
    }
   ],
   "source": [
    "env.interface.list_doc_objects()"
   ]
  },
  {
   "cell_type": "code",
   "execution_count": null,
   "metadata": {},
   "outputs": [],
   "source": []
  }
 ],
 "metadata": {
  "kernelspec": {
   "display_name": "freecad_fem_env_meshlab",
   "language": "python",
   "name": "python3"
  },
  "language_info": {
   "codemirror_mode": {
    "name": "ipython",
    "version": 3
   },
   "file_extension": ".py",
   "mimetype": "text/x-python",
   "name": "python",
   "nbconvert_exporter": "python",
   "pygments_lexer": "ipython3",
   "version": "3.7.8"
  },
  "orig_nbformat": 4,
  "vscode": {
   "interpreter": {
    "hash": "0ed4b81fbdbfd550574d8d33871560ab85c36782770b79694cf7e782f0a3e28e"
   }
  }
 },
 "nbformat": 4,
 "nbformat_minor": 2
}
