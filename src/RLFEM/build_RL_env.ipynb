{
 "cells": [
  {
   "cell_type": "code",
   "execution_count": 1,
   "metadata": {},
   "outputs": [
    {
     "name": "stdout",
     "output_type": "stream",
     "text": [
      "ccxtools_import_passed...\n"
     ]
    }
   ],
   "source": [
    "#env:freecad_fem_env_meshlab / new: freecad_gym\n",
    "%matplotlib inline\n",
    "import ctypes\n",
    "libgcc_s = ctypes.CDLL('libgcc_s.so.1')\n",
    "import gym \n",
    "from RLFEM import *\n",
    "from termcolor import colored"
   ]
  },
  {
   "cell_type": "code",
   "execution_count": 2,
   "metadata": {},
   "outputs": [
    {
     "name": "stdout",
     "output_type": "stream",
     "text": [
      "\n",
      " ******* Fcad22_ver1.obj is loaded ******* \n",
      "\n",
      "     +++ Mesh is healthy!  +++ \n",
      "mesh_OK:True\n",
      "shape bounding box: BoundBox (-1e-06, 0, 0, 10, 3, 2)\n",
      "shape result mesh is removed...\n",
      "mesh result mesh is removed...\n",
      "+ . + . + . + . observation_image_size:3795\n",
      "FemConstraints cleared...\n",
      "old solid result mesh is removed...\n",
      "\n",
      " ******* Fcad22_ver1.obj is loaded ******* \n",
      "\n",
      "     +++ Mesh is healthy!  +++ \n",
      "mesh_OK:True\n",
      "shape bounding box: BoundBox (-1e-06, 0, 0, 10, 3, 2)\n",
      "shape result mesh is removed...\n",
      "mesh result mesh is removed...\n",
      "step no:0\n",
      "+ . + . + . + . observation_image_size:3795\n"
     ]
    },
    {
     "name": "stderr",
     "output_type": "stream",
     "text": [
      "/work/aifa/miniconda3/envs/freecad_gym/lib/python3.7/site-packages/gym/spaces/box.py:74: UserWarning: \u001b[33mWARN: Box bound precision lowered by casting to float32\u001b[0m\n",
      "  \"Box bound precision lowered by casting to {}\".format(self.dtype)\n"
     ]
    }
   ],
   "source": [
    "env = RLFEM(render_modes='human',\n",
    "            save_path = 'meshsave_tmp/',\n",
    "            loaded_mesh_path = 'data/',\n",
    "            loaded_mesh_filename = 'Fcad22_ver1.obj',\n",
    "            gt_mesh_path = '../../scripts/data/_20221213121013416030.obj',\n",
    "            view_meshes=True,\n",
    "            xls_pth= 'data/',\n",
    "            xls_filename='state_actions_2023.xlsx',\n",
    "            load_3d=True)"
   ]
  },
  {
   "cell_type": "code",
   "execution_count": 3,
   "metadata": {},
   "outputs": [
    {
     "data": {
      "image/png": "[encoded data removed]",
      "text/plain": [
       "<Figure size 432x288 with 1 Axes>"
      ]
     },
     "metadata": {},
     "output_type": "display_data"
    },
    {
     "name": "stdout",
     "output_type": "stream",
     "text": [
      "FemConstraints cleared...\n",
      "old solid result mesh is removed...\n",
      "\n",
      " ******* Fcad22_ver1.obj is loaded ******* \n",
      "\n",
      "     +++ Mesh is healthy!  +++ \n",
      "mesh_OK:True\n",
      "shape bounding box: BoundBox (-1e-06, 0, 0, 10, 3, 2)\n",
      "shape result mesh is removed...\n",
      "mesh result mesh is removed...\n",
      "step no:0\n",
      "+ . + . + . + . observation_image_size:3795\n"
     ]
    },
    {
     "data": {
      "image/png": "[encoded data removed]",
      "text/plain": [
       "<Figure size 432x288 with 1 Axes>"
      ]
     },
     "metadata": {},
     "output_type": "display_data"
    },
    {
     "name": "stdout",
     "output_type": "stream",
     "text": [
      "force position : 7.724441051483154\n",
      "\n",
      "femmesh created from shape\n",
      "num of faces as fixed constraints: 88\n",
      "num of faces as force constraints: 49\n",
      "force const done!\n",
      "=o=o=o=o= INP FILE PATH: /tmp/femrqqx9wes/FEMMeshNetgen.inp\n",
      "Analysis done successfully...\n",
      ".....................................fem_volume:True\n",
      "CCX_Results\n",
      "Mesh by surface search method:  0.19109599999999993\n",
      "mesh_out is converted to mesh...\n",
      "     +++ Mesh is healthy!  +++ \n",
      "state_info : Fcad22_ver1_7.724441051483154_1080269.8135375977\n",
      "=============921600\n",
      "+=+=++=+=+=+=+=+= observation_image_size:3795\n",
      "old femmesh is removed...\n",
      "FemConstraints cleared...\n",
      "old solid result mesh is removed...\n",
      "shape from mesh done...\n",
      "converted to solid...\n",
      "=o=o=o=o=o=o=o/tmp/femrqqx9wes/FEMMeshNetgen.inp\n",
      "step_no- th:1\n",
      "reward:0.780021484527474\n",
      "+ . + . + . + . observation_image_size:3795\n"
     ]
    },
    {
     "data": {
      "image/png": "[encoded data removed]",
      "text/plain": [
       "<Figure size 432x288 with 1 Axes>"
      ]
     },
     "metadata": {},
     "output_type": "display_data"
    },
    {
     "name": "stdout",
     "output_type": "stream",
     "text": [
      "force position : 6.314999580383301\n",
      "\n",
      "femmesh created from shape\n",
      "num of faces as fixed constraints: 26\n",
      "num of faces as force constraints: 36\n",
      "force const done!\n",
      "shape result mesh is removed...\n",
      "mesh result mesh is removed...\n",
      "=o=o=o=o= INP FILE PATH: /tmp/femf2ieq14i/FEMMeshNetgen.inp\n",
      "Analysis done successfully...\n",
      ".....................................fem_volume:True\n",
      "CCX_Results\n",
      "Mesh by surface search method:  0.43708300000000033\n",
      "mesh_out is converted to mesh...\n",
      "     +++ Mesh is healthy!  +++ \n",
      "state_info : Fcad22_ver1_6.314999580383301_673246.7651367188\n",
      "=============921600\n",
      "+=+=++=+=+=+=+=+= observation_image_size:3795\n",
      "old femmesh is removed...\n",
      "FemConstraints cleared...\n",
      "old solid result mesh is removed...\n",
      "shape from mesh done...\n",
      "converted to solid...\n",
      "=o=o=o=o=o=o=o/tmp/femf2ieq14i/FEMMeshNetgen.inp\n",
      "step_no- th:2\n",
      "reward:0.790197657547092\n",
      "+ . + . + . + . observation_image_size:3795\n"
     ]
    },
    {
     "data": {
      "image/png": "[encoded data removed]",
      "text/plain": [
       "<Figure size 432x288 with 1 Axes>"
      ]
     },
     "metadata": {},
     "output_type": "display_data"
    },
    {
     "name": "stdout",
     "output_type": "stream",
     "text": [
      "force position : 2.6980338096618652\n",
      "\n",
      "femmesh created from shape\n",
      "num of faces as fixed constraints: 35\n",
      "num of faces as force constraints: 45\n",
      "force const done!\n",
      "shape result mesh is removed...\n",
      "mesh result mesh is removed...\n",
      "=o=o=o=o= INP FILE PATH: /tmp/femrfivdym3/FEMMeshNetgen.inp\n",
      "Analysis done successfully...\n",
      ".....................................fem_volume:True\n",
      "CCX_Results\n",
      "Mesh by surface search method:  0.8886620000000001\n",
      "mesh_out is converted to mesh...\n",
      "     +++ Mesh is healthy!  +++ \n",
      "state_info : Fcad22_ver1_2.6980338096618652_831124.4010925293\n",
      "=============921600\n",
      "+=+=++=+=+=+=+=+= observation_image_size:3795\n",
      "old femmesh is removed...\n",
      "FemConstraints cleared...\n",
      "old solid result mesh is removed...\n",
      "shape from mesh done...\n",
      "converted to solid...\n",
      "=o=o=o=o=o=o=o/tmp/femrfivdym3/FEMMeshNetgen.inp\n",
      "step_no- th:3\n",
      "reward:0.2802997477621616\n",
      "+ . + . + . + . observation_image_size:3795\n",
      "= = = = Episode:1 Score:1.8505188898367277\n",
      "FemConstraints cleared...\n",
      "old solid result mesh is removed...\n",
      "removed: ResultMesh\n",
      "removed: CCX_Results\n",
      "removed: Mesh\n",
      "removed: Mesh001\n",
      "\n",
      " ******* Fcad22_ver1.obj is loaded ******* \n",
      "\n",
      "     +++ Mesh is healthy!  +++ \n",
      "mesh_OK:True\n",
      "shape bounding box: BoundBox (-1e-06, 0, 0, 10, 3, 2)\n",
      "shape result mesh is removed...\n",
      "mesh result mesh is removed...\n",
      "step no:0\n",
      "+ . + . + . + . observation_image_size:3795\n"
     ]
    },
    {
     "data": {
      "image/png": "[encoded data removed]",
      "text/plain": [
       "<Figure size 432x288 with 1 Axes>"
      ]
     },
     "metadata": {},
     "output_type": "display_data"
    },
    {
     "name": "stdout",
     "output_type": "stream",
     "text": [
      "force position : 5.819425106048584\n",
      "\n",
      "femmesh created from shape\n",
      "num of faces as fixed constraints: 88\n",
      "num of faces as force constraints: 44\n",
      "force const done!\n",
      "=o=o=o=o= INP FILE PATH: /tmp/fem5k3p1z8q/FEMMeshNetgen.inp\n",
      "Analysis done successfully...\n",
      ".....................................fem_volume:True\n",
      "CCX_Results\n",
      "Mesh by surface search method:  0.226522000000001\n",
      "mesh_out is converted to mesh...\n",
      "     +++ Mesh is healthy!  +++ \n",
      "state_info : Fcad22_ver1_5.819425106048584_1455811.9773864746\n",
      "=============921600\n",
      "+=+=++=+=+=+=+=+= observation_image_size:3795\n",
      "old femmesh is removed...\n",
      "FemConstraints cleared...\n",
      "old solid result mesh is removed...\n",
      "shape from mesh done...\n",
      "converted to solid...\n",
      "=o=o=o=o=o=o=o/tmp/fem5k3p1z8q/FEMMeshNetgen.inp\n",
      "step_no- th:1\n",
      "reward:0.9473287487364969\n",
      "+ . + . + . + . observation_image_size:3795\n"
     ]
    },
    {
     "data": {
      "image/png": "[encoded data removed]",
      "text/plain": [
       "<Figure size 432x288 with 1 Axes>"
      ]
     },
     "metadata": {},
     "output_type": "display_data"
    },
    {
     "name": "stdout",
     "output_type": "stream",
     "text": [
      "force position : 7.606534481048584\n",
      "\n",
      "femmesh created from shape\n",
      "num of faces as fixed constraints: 25\n",
      "num of faces as force constraints: 44\n",
      "force const done!\n",
      "shape result mesh is removed...\n",
      "mesh result mesh is removed...\n",
      "=o=o=o=o= INP FILE PATH: /tmp/fem8g4rqfe8/FEMMeshNetgen.inp\n",
      "Analysis done successfully...\n",
      ".....................................fem_volume:True\n",
      "CCX_Results\n",
      "Mesh by surface search method:  0.46929599999999994\n",
      "mesh_out is converted to mesh...\n",
      "     +++ Mesh is healthy!  +++ \n",
      "state_info : Fcad22_ver1_7.606534481048584_583840.7039642334\n",
      "=============921600\n",
      "+=+=++=+=+=+=+=+= observation_image_size:3795\n",
      "old femmesh is removed...\n",
      "FemConstraints cleared...\n",
      "old solid result mesh is removed...\n",
      "shape from mesh done...\n",
      "converted to solid...\n",
      "=o=o=o=o=o=o=o/tmp/fem8g4rqfe8/FEMMeshNetgen.inp\n",
      "step_no- th:2\n",
      "reward:0.9246166638523077\n",
      "+ . + . + . + . observation_image_size:3795\n"
     ]
    },
    {
     "data": {
      "image/png": "[encoded data removed]",
      "text/plain": [
       "<Figure size 432x288 with 1 Axes>"
      ]
     },
     "metadata": {},
     "output_type": "display_data"
    },
    {
     "name": "stdout",
     "output_type": "stream",
     "text": [
      "force position : 4.561298370361328\n",
      "\n",
      "femmesh created from shape\n",
      "num of faces as fixed constraints: 37\n",
      "num of faces as force constraints: 91\n",
      "force const done!\n",
      "shape result mesh is removed...\n",
      "mesh result mesh is removed...\n",
      "problem occurred! FEM mesh has no volume elements, either define a shell thicknesses or provide a FEM mesh with volume elements.\n",
      "\n",
      "\n",
      ".....................................fem_volume:False\n",
      "fem_volume is not OK...\n",
      "CCX_Results\n",
      "Mesh by surface search method:  0.19452400000000125\n",
      "mesh_out is converted to mesh...\n",
      "     +++ Mesh is healthy!  +++ \n",
      "state_info : Fcad22_ver1_4.561298370361328_576086.4734649658\n",
      "=============921600\n",
      "+=+=++=+=+=+=+=+= observation_image_size:3795\n",
      "old femmesh is removed...\n",
      "FemConstraints cleared...\n",
      "old solid result mesh is removed...\n",
      "shape from mesh done...\n",
      "converted to solid...\n",
      "=o=o=o=o=o=o=o/tmp/fem8g4rqfe8/FEMMeshNetgen.inp\n",
      "step_no- th:3\n",
      "reward:0.2563289262422088\n",
      "+ . + . + . + . observation_image_size:3795\n",
      "= = = = Episode:2 Score:2.1282743388310132\n",
      "Done!\n"
     ]
    },
    {
     "data": {
      "image/png": "[encoded data removed]",
      "text/plain": [
       "<Figure size 432x288 with 1 Axes>"
      ]
     },
     "metadata": {
      "needs_background": "light"
     },
     "output_type": "display_data"
    }
   ],
   "source": [
    "import pylab as pl\n",
    "from IPython import display\n",
    "pl.clf()\n",
    "pl.imshow(env.render())\n",
    "display.display(pl.gcf())\n",
    "# display.clear_output(wait=True)\n",
    "\n",
    "episodes = 2\n",
    "for episode in range(1, episodes+1):\n",
    "    state = env.reset()\n",
    "    done = False\n",
    "    score = 0 \n",
    "    \n",
    "    while not done:\n",
    "        obs = env.render()\n",
    "        \n",
    "        # pl.clf()\n",
    "        pl.imshow(obs)  \n",
    "        display.display(pl.gcf())\n",
    "        # display.clear_output(wait=True)\n",
    "        \n",
    "        action = env.action_space.sample()\n",
    "        observation, reward, done, _ = env.step(action)\n",
    "        score+=reward\n",
    "    print(colored(f'= = = = Episode:{episode} Score:{score}','green'))\n",
    "\n",
    "env.close()\n",
    "print(colored('Done!','red'))"
   ]
  },
  {
   "cell_type": "code",
   "execution_count": null,
   "metadata": {},
   "outputs": [],
   "source": []
  }
 ],
 "metadata": {
  "kernelspec": {
   "display_name": "freecad_gym",
   "language": "python",
   "name": "python3"
  },
  "language_info": {
   "codemirror_mode": {
    "name": "ipython",
    "version": 3
   },
   "file_extension": ".py",
   "mimetype": "text/x-python",
   "name": "python",
   "nbconvert_exporter": "python",
   "pygments_lexer": "ipython3",
   "version": "3.7.8 | packaged by conda-forge | (default, Nov 17 2020, 23:45:15) \n[GCC 7.5.0]"
  },
  "orig_nbformat": 4,
  "vscode": {
   "interpreter": {
    "hash": "06dde31c0b46c84769695c4375a87be89154a9f8173304e4ccb83bb0e3358020"
   }
  }
 },
 "nbformat": 4,
 "nbformat_minor": 2
}
