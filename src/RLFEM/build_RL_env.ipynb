{
 "cells": [
  {
   "cell_type": "code",
   "execution_count": 1,
   "metadata": {},
   "outputs": [],
   "source": [
    "# env:freecad_fem_env_meshlab \n",
    "# generate random actions and make data for training the CoMA  \n",
    "%matplotlib inline\n",
    "import ctypes\n",
    "libgcc_s = ctypes.CDLL('libgcc_s.so.1')\n",
    "import gym \n",
    "from RLFEM import *\n",
    "from termcolor import colored\n",
    "import random\n",
    "\n",
    "import pylab as pl\n",
    "from IPython import display\n",
    "import matplotlib.pyplot as plt "
   ]
  },
  {
   "cell_type": "code",
   "execution_count": 2,
   "metadata": {},
   "outputs": [
    {
     "name": "stdout",
     "output_type": "stream",
     "text": [
      "femmesh created from shape\n",
      "---------------------------\n",
      "Analysis,    --> <class 'App.DocumentObjectGroup'>\n",
      "CalculiXccxTools,    --> <class 'FeaturePython'>\n",
      "SolidMaterial,    --> <class 'FeaturePython'>\n",
      "Solid,    --> <class 'PrimitivePy'>\n",
      "FEMMeshNetgen,    --> <class 'App.DocumentObject'>\n",
      "FemConstraintFixed,    --> <class 'App.DocumentObject'>\n",
      "FemConstraintForce,    --> <class 'App.DocumentObject'>\n",
      "---------------------------\n",
      "cc:0\n",
      "+o+o+o+o+o+o+ .inp filename /scratch/aifa/MyRepo/RL_FEM/gym_RLFEM/FreeCAD_RL_FEM_Environment/src/RLFEM/my_inp_folder/20230724_181302/FEMMeshNetgen.inp\n",
      "CCX_Results\n",
      "Mesh by surface search method:  0.23592799999999992\n"
     ]
    },
    {
     "ename": "NameError",
     "evalue": "name 'quit' is not defined",
     "output_type": "error",
     "traceback": [
      "\u001b[0;31m---------------------------------------------------------------------------\u001b[0m",
      "\u001b[0;31mNameError\u001b[0m                                 Traceback (most recent call last)",
      "\u001b[0;32m<ipython-input-2-a2c99e394ef3>\u001b[0m in \u001b[0;36m<module>\u001b[0;34m\u001b[0m\n\u001b[1;32m      8\u001b[0m             \u001b[0mxls_pth\u001b[0m\u001b[0;34m=\u001b[0m \u001b[0;34m'read from yml'\u001b[0m\u001b[0;34m,\u001b[0m\u001b[0;34m\u001b[0m\u001b[0;34m\u001b[0m\u001b[0m\n\u001b[1;32m      9\u001b[0m             \u001b[0mxls_filename\u001b[0m\u001b[0;34m=\u001b[0m\u001b[0;34m'read from yml'\u001b[0m\u001b[0;34m,\u001b[0m\u001b[0;34m\u001b[0m\u001b[0;34m\u001b[0m\u001b[0m\n\u001b[0;32m---> 10\u001b[0;31m             load_3d=False)\n\u001b[0m\u001b[1;32m     11\u001b[0m \u001b[0;34m\u001b[0m\u001b[0m\n\u001b[1;32m     12\u001b[0m \u001b[0mprint\u001b[0m\u001b[0;34m(\u001b[0m\u001b[0mcolored\u001b[0m\u001b[0;34m(\u001b[0m\u001b[0;34m'Print has been disabled!'\u001b[0m\u001b[0;34m,\u001b[0m\u001b[0;34m'red'\u001b[0m\u001b[0;34m)\u001b[0m\u001b[0;34m)\u001b[0m\u001b[0;34m\u001b[0m\u001b[0;34m\u001b[0m\u001b[0m\n",
      "\u001b[0;32m/scratch/aifa/MyRepo/RL_FEM/gym_RLFEM/FreeCAD_RL_FEM_Environment/src/RLFEM/RLFEM.py\u001b[0m in \u001b[0;36m__init__\u001b[0;34m(self, render_modes, save_path, loaded_mesh_path, loaded_mesh_filename, gt_mesh_path, view_meshes, xls_pth, xls_filename, load_3d)\u001b[0m\n\u001b[1;32m     44\u001b[0m                  \u001b[0mxls_pth\u001b[0m\u001b[0;34m,\u001b[0m\u001b[0;34m\u001b[0m\u001b[0;34m\u001b[0m\u001b[0m\n\u001b[1;32m     45\u001b[0m                  \u001b[0mxls_filename\u001b[0m\u001b[0;34m,\u001b[0m\u001b[0;34m\u001b[0m\u001b[0;34m\u001b[0m\u001b[0m\n\u001b[0;32m---> 46\u001b[0;31m                  load_3d)\n\u001b[0m\u001b[1;32m     47\u001b[0m \u001b[0;34m\u001b[0m\u001b[0m\n\u001b[1;32m     48\u001b[0m \u001b[0;34m\u001b[0m\u001b[0m\n",
      "\u001b[0;32m/scratch/aifa/MyRepo/RL_FEM/gym_RLFEM/FreeCAD_RL_FEM_Environment/src/RLFEM/FreeCADWrapper.py\u001b[0m in \u001b[0;36m__init__\u001b[0;34m(self, render_modes, save_path, loaded_mesh_path, loaded_mesh_filename, gt_mesh_path, view_meshes, xls_pth, xls_filename, load_3d)\u001b[0m\n\u001b[1;32m     94\u001b[0m         \u001b[0mself\u001b[0m\u001b[0;34m.\u001b[0m\u001b[0minpfile\u001b[0m \u001b[0;34m=\u001b[0m \u001b[0;34m'FEMMeshNetgen.inp'\u001b[0m\u001b[0;34m\u001b[0m\u001b[0;34m\u001b[0m\u001b[0m\n\u001b[1;32m     95\u001b[0m \u001b[0;34m\u001b[0m\u001b[0m\n\u001b[0;32m---> 96\u001b[0;31m         \u001b[0mself\u001b[0m\u001b[0;34m.\u001b[0m\u001b[0mdoc\u001b[0m\u001b[0;34m,\u001b[0m \u001b[0mself\u001b[0m\u001b[0;34m.\u001b[0m\u001b[0mstate0_trimesh\u001b[0m\u001b[0;34m,\u001b[0m\u001b[0mself\u001b[0m\u001b[0;34m.\u001b[0m\u001b[0mmesh_OK\u001b[0m \u001b[0;34m=\u001b[0m \u001b[0mself\u001b[0m\u001b[0;34m.\u001b[0m\u001b[0mdocument_setup\u001b[0m\u001b[0;34m(\u001b[0m\u001b[0;34m)\u001b[0m\u001b[0;34m\u001b[0m\u001b[0;34m\u001b[0m\u001b[0m\n\u001b[0m\u001b[1;32m     97\u001b[0m \u001b[0;34m\u001b[0m\u001b[0m\n\u001b[1;32m     98\u001b[0m         \u001b[0;32mif\u001b[0m \u001b[0;32mnot\u001b[0m \u001b[0mself\u001b[0m\u001b[0;34m.\u001b[0m\u001b[0mmesh_OK\u001b[0m\u001b[0;34m:\u001b[0m \u001b[0mprint\u001b[0m\u001b[0;34m(\u001b[0m\u001b[0;34m'*** init mesh is not acceptable!'\u001b[0m\u001b[0;34m)\u001b[0m\u001b[0;34m\u001b[0m\u001b[0;34m\u001b[0m\u001b[0m\n",
      "\u001b[0;32m/scratch/aifa/MyRepo/RL_FEM/gym_RLFEM/FreeCAD_RL_FEM_Environment/src/RLFEM/FreeCADWrapper.py\u001b[0m in \u001b[0;36mdocument_setup\u001b[0;34m(self)\u001b[0m\n\u001b[1;32m    417\u001b[0m         \u001b[0mself\u001b[0m\u001b[0;34m.\u001b[0m\u001b[0mresult_trimesh\u001b[0m \u001b[0;34m=\u001b[0m \u001b[0mself\u001b[0m\u001b[0;34m.\u001b[0m\u001b[0mstate0_trimesh\u001b[0m\u001b[0;34m\u001b[0m\u001b[0;34m\u001b[0m\u001b[0m\n\u001b[1;32m    418\u001b[0m         \u001b[0mself\u001b[0m\u001b[0;34m.\u001b[0m\u001b[0mstate0_trimesh\u001b[0m\u001b[0;34m.\u001b[0m\u001b[0mexport\u001b[0m\u001b[0;34m(\u001b[0m\u001b[0;34m'Mesh1402.obj'\u001b[0m\u001b[0;34m)\u001b[0m \u001b[0;31m#***\u001b[0m\u001b[0;34m\u001b[0m\u001b[0;34m\u001b[0m\u001b[0m\n\u001b[0;32m--> 419\u001b[0;31m         \u001b[0mquit\u001b[0m\u001b[0;34m(\u001b[0m\u001b[0;34m)\u001b[0m\u001b[0;34m\u001b[0m\u001b[0;34m\u001b[0m\u001b[0m\n\u001b[0m\u001b[1;32m    420\u001b[0m         \u001b[0mself\u001b[0m\u001b[0;34m.\u001b[0m\u001b[0mres_nd_no_0\u001b[0m \u001b[0;34m=\u001b[0m \u001b[0mself\u001b[0m\u001b[0;34m.\u001b[0m\u001b[0mdoc\u001b[0m\u001b[0;34m.\u001b[0m\u001b[0mCCX_Results\u001b[0m\u001b[0;34m.\u001b[0m\u001b[0mNodeNumbers\u001b[0m\u001b[0;34m\u001b[0m\u001b[0;34m\u001b[0m\u001b[0m\n\u001b[1;32m    421\u001b[0m         \u001b[0mself\u001b[0m\u001b[0;34m.\u001b[0m\u001b[0mres_mesh_0\u001b[0m \u001b[0;34m=\u001b[0m \u001b[0mself\u001b[0m\u001b[0;34m.\u001b[0m\u001b[0mdoc\u001b[0m\u001b[0;34m.\u001b[0m\u001b[0mResultMesh\u001b[0m\u001b[0;34m.\u001b[0m\u001b[0mFemMesh\u001b[0m\u001b[0;34m\u001b[0m\u001b[0;34m\u001b[0m\u001b[0m\n",
      "\u001b[0;31mNameError\u001b[0m: name 'quit' is not defined"
     ]
    }
   ],
   "source": [
    "#TODO read from yml or here?! TODO TODO TODO \n",
    "env = RLFEM(render_modes='human',\n",
    "            save_path = '<savepath load from yml >',\n",
    "            loaded_mesh_path = '',\n",
    "            loaded_mesh_filename = '',\n",
    "            gt_mesh_path = '',\n",
    "            view_meshes=True,\n",
    "            xls_pth= 'read from yml',\n",
    "            xls_filename='read from yml',\n",
    "            load_3d=False)\n",
    "\n",
    "print(colored('Print has been disabled!','red'))"
   ]
  },
  {
   "cell_type": "code",
   "execution_count": null,
   "metadata": {},
   "outputs": [],
   "source": [
    "# if a == 6:\n",
    "#     a"
   ]
  },
  {
   "cell_type": "code",
   "execution_count": null,
   "metadata": {},
   "outputs": [],
   "source": [
    "%%capture\n",
    "\n",
    "def define_action():\n",
    "\n",
    "    h = int(env.interface.doc.getObject('Solid').Height)\n",
    "    w = int(env.interface.doc.getObject('Solid').Width)\n",
    "    l = int(env.interface.doc.getObject('Solid').Length)\n",
    "    print(f'cube : w:{w}, l:{l}, h:{h}')\n",
    "    \n",
    "    min_l = 1\n",
    "    max_l = l-1\n",
    "    min_w = 1\n",
    "    max_w = w-1\n",
    "    \n",
    "    # direction -/+ 400 is a bigger force than 100!\n",
    "    # material='PET'\n",
    "    F_min = -400 \n",
    "    F_max = -100\n",
    "    \n",
    "    return min_l, max_l,min_w,max_w\n",
    "\n",
    "def generate_random_action(min_l,max_l,min_w,max_w):\n",
    "    # Fx = round(random.uniform(min_l,max_l), 2)\n",
    "    # Fy = round(random.uniform(min_w,max_w), 2)\n",
    "    F = random.randint(-600,-100)\n",
    "    Fx = random.randint(min_l,max_l)\n",
    "    Fy = random.randint(min_w,max_w)\n",
    "    action = (Fx,Fy,F)\n",
    "    return action"
   ]
  },
  {
   "cell_type": "code",
   "execution_count": null,
   "metadata": {},
   "outputs": [],
   "source": [
    "%%capture\n",
    "\n",
    "min_l,max_l,min_w,max_w = define_action()\n",
    "\n",
    "episodes = 5000\n",
    "for episode in range(1, episodes+1):\n",
    "    done = False\n",
    "    while not done:\n",
    "    \n",
    "        action = generate_random_action(min_l, max_l,min_w,max_w)\n",
    "        observation, reward, done, _ = env.step(action)\n",
    "        \n",
    "    print(colored(f'= = = = Episode:{episode} ended...','yellow'))\n",
    "    env.reset()\n",
    "    done = False\n",
    "    \n",
    "\n",
    "env.close()\n",
    "print(colored('Done!','red'))"
   ]
  },
  {
   "cell_type": "code",
   "execution_count": null,
   "metadata": {},
   "outputs": [],
   "source": [
    "print(colored('Done!','red'))"
   ]
  }
 ],
 "metadata": {
  "kernelspec": {
   "display_name": "freecad_fem_env_meshlab",
   "language": "python",
   "name": "python3"
  },
  "language_info": {
   "codemirror_mode": {
    "name": "ipython",
    "version": 3
   },
   "file_extension": ".py",
   "mimetype": "text/x-python",
   "name": "python",
   "nbconvert_exporter": "python",
   "pygments_lexer": "ipython3",
   "version": "3.7.8"
  },
  "orig_nbformat": 4,
  "vscode": {
   "interpreter": {
    "hash": "0ed4b81fbdbfd550574d8d33871560ab85c36782770b79694cf7e782f0a3e28e"
   }
  }
 },
 "nbformat": 4,
 "nbformat_minor": 2
}
