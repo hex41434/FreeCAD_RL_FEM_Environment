{
 "cells": [
  {
   "cell_type": "code",
   "execution_count": null,
   "metadata": {},
   "outputs": [],
   "source": [
    "#env:freecad_fem_env_meshlab / new: freecad_gym\n",
    "%matplotlib inline\n",
    "import ctypes\n",
    "libgcc_s = ctypes.CDLL('libgcc_s.so.1')\n",
    "import gym \n",
    "from RLFEM import *\n",
    "from termcolor import colored\n",
    "from stable_baselines3 import PPO"
   ]
  },
  {
   "cell_type": "code",
   "execution_count": null,
   "metadata": {},
   "outputs": [],
   "source": [
    "env = RLFEM(render_modes='human',\n",
    "            save_path = 'meshsave_tmp/',\n",
    "            loaded_mesh_path = 'data/',\n",
    "            loaded_mesh_filename = 'Fcad22_ver1.obj',\n",
    "            gt_mesh_path = '../../scripts/data/_20221213121013416030.obj',\n",
    "            view_meshes=True,\n",
    "            xls_pth= 'data/',\n",
    "            xls_filename='state_actions_2023.xlsx',\n",
    "            load_3d=True)"
   ]
  },
  {
   "cell_type": "code",
   "execution_count": null,
   "metadata": {},
   "outputs": [],
   "source": [
    "model = PPO(\"MlpPolicy\", env, verbose=0)\n",
    "model.learn(total_timesteps=15)"
   ]
  },
  {
   "cell_type": "code",
   "execution_count": null,
   "metadata": {},
   "outputs": [],
   "source": [
    "obs = env.reset()\n",
    "for i in range(10):\n",
    "    action, _states = model.predict(obs)\n",
    "    print(action)\n",
    "    obs, rewards, dones, info = env.step(action)\n",
    "    env.render()"
   ]
  }
 ],
 "metadata": {
  "kernelspec": {
   "display_name": "freecad_gym",
   "language": "python",
   "name": "python3"
  },
  "language_info": {
   "codemirror_mode": {
    "name": "ipython",
    "version": 3
   },
   "file_extension": ".py",
   "mimetype": "text/x-python",
   "name": "python",
   "nbconvert_exporter": "python",
   "pygments_lexer": "ipython3",
   "version": "3.7.8 | packaged by conda-forge | (default, Nov 17 2020, 23:45:15) \n[GCC 7.5.0]"
  },
  "orig_nbformat": 4,
  "vscode": {
   "interpreter": {
    "hash": "06dde31c0b46c84769695c4375a87be89154a9f8173304e4ccb83bb0e3358020"
   }
  }
 },
 "nbformat": 4,
 "nbformat_minor": 2
}
