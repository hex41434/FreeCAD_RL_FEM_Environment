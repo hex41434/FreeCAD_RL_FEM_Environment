{
 "cells": [
  {
   "cell_type": "code",
   "execution_count": 1,
   "metadata": {},
   "outputs": [
    {
     "name": "stdout",
     "output_type": "stream",
     "text": [
      "ccxtools_import_passed...\n",
      "\n",
      " ******* Fcad22_ver1.obj is loaded ******* \n",
      "\n",
      "---------------------------\n",
      "RefBox,    --> <class 'PrimitivePy'>\n",
      "Analysis,    --> <class 'App.DocumentObjectGroup'>\n",
      "CalculiXccxTools,    --> <class 'FeaturePython'>\n",
      "SolidMaterial,    --> <class 'FeaturePython'>\n",
      "FemConstraintFixed,    --> <class 'App.DocumentObject'>\n",
      "FemConstraintForce,    --> <class 'App.DocumentObject'>\n",
      "Fcad22_ver1,    --> <class 'Mesh.Feature'>\n",
      "---------------------------\n",
      "None\n",
      "     +++ Mesh is healthy!  +++ \n",
      "mesh_OK:True\n",
      "shape bounding box: BoundBox (-1e-06, 0, 0, 10, 3, 2)\n",
      "shape result mesh is removed...\n",
      "mesh result mesh is removed...\n"
     ]
    }
   ],
   "source": [
    "# conda env : freecad_fem_env_meshlab2\n",
    "\n",
    "from my_rl_env import *\n",
    "from chamfer import *\n",
    "\n",
    "my_env = my_rl_env(save_path = 'meshsave_tmp/',\n",
    "                   loaded_mesh_path = 'data/',\n",
    "                   loaded_mesh_filename = 'Fcad22_ver1.obj', #initBox\n",
    "                   view_meshes=True,\n",
    "                   xls_pth= 'data/',\n",
    "                   xls_filename='state_actions_2023.xlsx')"
   ]
  },
  {
   "cell_type": "code",
   "execution_count": 2,
   "metadata": {},
   "outputs": [
    {
     "name": "stdout",
     "output_type": "stream",
     "text": [
      "---------------------------\n",
      "RefBox,    --> <class 'PrimitivePy'>\n",
      "Analysis,    --> <class 'App.DocumentObjectGroup'>\n",
      "CalculiXccxTools,    --> <class 'FeaturePython'>\n",
      "SolidMaterial,    --> <class 'FeaturePython'>\n",
      "FemConstraintFixed,    --> <class 'App.DocumentObject'>\n",
      "FemConstraintForce,    --> <class 'App.DocumentObject'>\n",
      "Solid,    --> <class 'Part.Feature'>\n",
      "---------------------------\n"
     ]
    }
   ],
   "source": [
    "my_env.list_doc_objects()"
   ]
  },
  {
   "cell_type": "code",
   "execution_count": 3,
   "metadata": {},
   "outputs": [
    {
     "name": "stdout",
     "output_type": "stream",
     "text": [
      "force position : 5\n",
      "\n",
      "femmesh created from shape\n",
      "num of faces as fixed constraints: 88\n",
      "num of faces as force constraints: 10\n"
     ]
    },
    {
     "ename": "AttributeError",
     "evalue": "module 'femtools.ccxtools' has no attribute 'FemToolsCcx1'",
     "output_type": "error",
     "traceback": [
      "\u001b[0;31m---------------------------------------------------------------------------\u001b[0m",
      "\u001b[0;31mAttributeError\u001b[0m                            Traceback (most recent call last)",
      "\u001b[0;32m<ipython-input-3-8502c5f633c3>\u001b[0m in \u001b[0;36m<module>\u001b[0;34m\u001b[0m\n\u001b[1;32m      3\u001b[0m \u001b[0;32mfor\u001b[0m \u001b[0mi\u001b[0m \u001b[0;32min\u001b[0m \u001b[0mrange\u001b[0m\u001b[0;34m(\u001b[0m\u001b[0;36m2\u001b[0m\u001b[0;34m)\u001b[0m\u001b[0;34m:\u001b[0m\u001b[0;34m\u001b[0m\u001b[0;34m\u001b[0m\u001b[0m\n\u001b[1;32m      4\u001b[0m     \u001b[0mmy_env\u001b[0m\u001b[0;34m.\u001b[0m\u001b[0mcreate_fem_analysis\u001b[0m\u001b[0;34m(\u001b[0m\u001b[0;34m)\u001b[0m\u001b[0;34m\u001b[0m\u001b[0;34m\u001b[0m\u001b[0m\n\u001b[0;32m----> 5\u001b[0;31m     \u001b[0minp_path\u001b[0m \u001b[0;34m=\u001b[0m \u001b[0mmy_env\u001b[0m\u001b[0;34m.\u001b[0m\u001b[0mfem_step\u001b[0m\u001b[0;34m(\u001b[0m\u001b[0;34m)\u001b[0m\u001b[0;34m\u001b[0m\u001b[0;34m\u001b[0m\u001b[0m\n\u001b[0m\u001b[1;32m      6\u001b[0m     \u001b[0minp_list\u001b[0m\u001b[0;34m.\u001b[0m\u001b[0mappend\u001b[0m\u001b[0;34m(\u001b[0m\u001b[0minp_path\u001b[0m\u001b[0;34m)\u001b[0m\u001b[0;34m\u001b[0m\u001b[0;34m\u001b[0m\u001b[0m\n",
      "\u001b[0;32m/scratch/aifa/MyRepo/RL_FEM/gym_RLFEM/FreeCAD_RL_FEM_Environment/scripts/my_rl_env.py\u001b[0m in \u001b[0;36mfem_step\u001b[0;34m(self, mesh_decimation)\u001b[0m\n\u001b[1;32m     86\u001b[0m     \u001b[0;32mdef\u001b[0m \u001b[0mfem_step\u001b[0m\u001b[0;34m(\u001b[0m\u001b[0mself\u001b[0m\u001b[0;34m,\u001b[0m\u001b[0mmesh_decimation\u001b[0m\u001b[0;34m=\u001b[0m\u001b[0;32mTrue\u001b[0m\u001b[0;34m)\u001b[0m\u001b[0;34m:\u001b[0m\u001b[0;34m\u001b[0m\u001b[0;34m\u001b[0m\u001b[0m\n\u001b[1;32m     87\u001b[0m \u001b[0;34m\u001b[0m\u001b[0m\n\u001b[0;32m---> 88\u001b[0;31m         \u001b[0mself\u001b[0m\u001b[0;34m.\u001b[0m\u001b[0mdoc\u001b[0m\u001b[0;34m,\u001b[0m \u001b[0mself\u001b[0m\u001b[0;34m.\u001b[0m\u001b[0mfem_volume\u001b[0m\u001b[0;34m,\u001b[0m\u001b[0mself\u001b[0m\u001b[0;34m.\u001b[0m\u001b[0minp_path\u001b[0m \u001b[0;34m=\u001b[0m \u001b[0mself\u001b[0m\u001b[0;34m.\u001b[0m\u001b[0mrun_analysis\u001b[0m\u001b[0;34m(\u001b[0m\u001b[0;34m)\u001b[0m\u001b[0;34m\u001b[0m\u001b[0;34m\u001b[0m\u001b[0m\n\u001b[0m\u001b[1;32m     89\u001b[0m         \u001b[0mprint\u001b[0m\u001b[0;34m(\u001b[0m\u001b[0;34mf\".....................................fem_volume:{self.fem_volume}\"\u001b[0m\u001b[0;34m)\u001b[0m\u001b[0;34m\u001b[0m\u001b[0;34m\u001b[0m\u001b[0m\n\u001b[1;32m     90\u001b[0m         \u001b[0;32mif\u001b[0m \u001b[0;32mnot\u001b[0m \u001b[0mself\u001b[0m\u001b[0;34m.\u001b[0m\u001b[0mfem_volume\u001b[0m\u001b[0;34m:\u001b[0m \u001b[0mprint\u001b[0m\u001b[0;34m(\u001b[0m\u001b[0;34m\"fem_volume is not OK...\"\u001b[0m\u001b[0;34m)\u001b[0m\u001b[0;34m\u001b[0m\u001b[0;34m\u001b[0m\u001b[0m\n",
      "\u001b[0;32m/scratch/aifa/MyRepo/RL_FEM/gym_RLFEM/FreeCAD_RL_FEM_Environment/scripts/my_rl_env.py\u001b[0m in \u001b[0;36mrun_analysis\u001b[0;34m(self)\u001b[0m\n\u001b[1;32m    197\u001b[0m     \u001b[0;32mdef\u001b[0m \u001b[0mrun_analysis\u001b[0m\u001b[0;34m(\u001b[0m\u001b[0mself\u001b[0m\u001b[0;34m)\u001b[0m\u001b[0;34m:\u001b[0m\u001b[0;34m\u001b[0m\u001b[0;34m\u001b[0m\u001b[0m\n\u001b[1;32m    198\u001b[0m \u001b[0;34m\u001b[0m\u001b[0m\n\u001b[0;32m--> 199\u001b[0;31m         \u001b[0mfea\u001b[0m \u001b[0;34m=\u001b[0m \u001b[0mccxtools\u001b[0m\u001b[0;34m.\u001b[0m\u001b[0mFemToolsCcx1\u001b[0m\u001b[0;34m(\u001b[0m\u001b[0;34m)\u001b[0m\u001b[0;34m\u001b[0m\u001b[0;34m\u001b[0m\u001b[0m\n\u001b[0m\u001b[1;32m    200\u001b[0m         \u001b[0mfea\u001b[0m\u001b[0;34m.\u001b[0m\u001b[0mupdate_objects\u001b[0m\u001b[0;34m(\u001b[0m\u001b[0;34m)\u001b[0m\u001b[0;34m\u001b[0m\u001b[0;34m\u001b[0m\u001b[0m\n\u001b[1;32m    201\u001b[0m         \u001b[0mfea\u001b[0m\u001b[0;34m.\u001b[0m\u001b[0msetup_working_dir\u001b[0m\u001b[0;34m(\u001b[0m\u001b[0;34m)\u001b[0m\u001b[0;34m\u001b[0m\u001b[0;34m\u001b[0m\u001b[0m\n",
      "\u001b[0;31mAttributeError\u001b[0m: module 'femtools.ccxtools' has no attribute 'FemToolsCcx1'"
     ]
    }
   ],
   "source": [
    "inp_path = ''\n",
    "inp_list = []\n",
    "for i in range(2):\n",
    "    my_env.create_fem_analysis()\n",
    "    inp_path = my_env.fem_step()\n",
    "    inp_list.append(inp_path)"
   ]
  },
  {
   "cell_type": "code",
   "execution_count": null,
   "metadata": {},
   "outputs": [],
   "source": [
    "gt_points = my_env.trimesh_scene_meshes[-1]\n",
    "\n",
    "for msh in my_env.trimesh_scene_meshes[:-1]:\n",
    "    print(msh.vertices.shape)\n",
    "    chamf = compute_trimesh_chamfer(gt_points, msh, offset=0, scale=1, num_mesh_samples=300000)\n",
    "    print(chamf)"
   ]
  },
  {
   "cell_type": "code",
   "execution_count": null,
   "metadata": {},
   "outputs": [],
   "source": [
    "print(len(my_env.trimesh_scene_meshes))\n",
    "my_env.trimesh_scene_meshes[-1].show()"
   ]
  },
  {
   "cell_type": "code",
   "execution_count": null,
   "metadata": {},
   "outputs": [],
   "source": [
    "final_scene = my_env.view_all_states()\n",
    "trimesh.Scene(final_scene).show()"
   ]
  },
  {
   "cell_type": "code",
   "execution_count": null,
   "metadata": {},
   "outputs": [],
   "source": [
    "filename = inp_path\n",
    "print(filename)\n",
    "with open(filename) as file:\n",
    "    lines = [line.rstrip() for line in file]"
   ]
  },
  {
   "cell_type": "code",
   "execution_count": null,
   "metadata": {},
   "outputs": [],
   "source": [
    "lines"
   ]
  },
  {
   "cell_type": "code",
   "execution_count": null,
   "metadata": {},
   "outputs": [],
   "source": [
    "inp_list"
   ]
  },
  {
   "cell_type": "code",
   "execution_count": null,
   "metadata": {},
   "outputs": [],
   "source": []
  }
 ],
 "metadata": {
  "kernelspec": {
   "display_name": "freecad_fem_env_meshlab2",
   "language": "python",
   "name": "python3"
  },
  "language_info": {
   "codemirror_mode": {
    "name": "ipython",
    "version": 3
   },
   "file_extension": ".py",
   "mimetype": "text/x-python",
   "name": "python",
   "nbconvert_exporter": "python",
   "pygments_lexer": "ipython3",
   "version": "3.7.8"
  },
  "orig_nbformat": 4,
  "vscode": {
   "interpreter": {
    "hash": "fef725c972268f74e5910456982aaca9e23e19f30468309b932b373a55531934"
   }
  }
 },
 "nbformat": 4,
 "nbformat_minor": 2
}
