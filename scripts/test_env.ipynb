{
 "cells": [
  {
   "cell_type": "code",
   "execution_count": null,
   "metadata": {},
   "outputs": [],
   "source": [
    "# conda env : freecad_fem_env_meshlab2\n",
    "\n",
    "from my_rl_env import *\n",
    "from chamfer import *\n",
    "\n",
    "my_env = my_rl_env(save_path = 'meshsave_tmp/',\n",
    "                   loaded_mesh_path = 'data/',\n",
    "                   loaded_mesh_filename = 'Fcad22_ver1.obj', #initBox\n",
    "                   view_meshes=True,\n",
    "                   xls_pth= 'data/',\n",
    "                   xls_filename='state_actions_2023.xlsx')"
   ]
  },
  {
   "cell_type": "code",
   "execution_count": null,
   "metadata": {},
   "outputs": [],
   "source": [
    "my_env.list_doc_objects()"
   ]
  },
  {
   "cell_type": "code",
   "execution_count": null,
   "metadata": {},
   "outputs": [],
   "source": [
    "inp_path = ''\n",
    "inp_list = []\n",
    "for i in range(2):\n",
    "    my_env.create_fem_analysis()\n",
    "    inp_path = my_env.fem_step()\n",
    "    inp_list.append(inp_path)"
   ]
  },
  {
   "cell_type": "code",
   "execution_count": null,
   "metadata": {},
   "outputs": [],
   "source": [
    "gt_points = my_env.trimesh_scene_meshes[-1]\n",
    "\n",
    "for msh in my_env.trimesh_scene_meshes[:-1]:\n",
    "    print(msh.vertices.shape)\n",
    "    chamf = compute_trimesh_chamfer(gt_points, msh, offset=0, scale=1, num_mesh_samples=300000)\n",
    "    print(chamf)"
   ]
  },
  {
   "cell_type": "code",
   "execution_count": null,
   "metadata": {},
   "outputs": [],
   "source": [
    "print(len(my_env.trimesh_scene_meshes))\n",
    "my_env.trimesh_scene_meshes[-1].show()"
   ]
  },
  {
   "cell_type": "code",
   "execution_count": null,
   "metadata": {},
   "outputs": [],
   "source": [
    "final_scene = my_env.view_all_states()\n",
    "trimesh.Scene(final_scene).show()"
   ]
  },
  {
   "cell_type": "code",
   "execution_count": null,
   "metadata": {},
   "outputs": [],
   "source": [
    "filename = inp_path\n",
    "print(filename)\n",
    "with open(filename) as file:\n",
    "    lines = [line.rstrip() for line in file]"
   ]
  },
  {
   "cell_type": "code",
   "execution_count": null,
   "metadata": {},
   "outputs": [],
   "source": [
    "lines"
   ]
  },
  {
   "cell_type": "code",
   "execution_count": null,
   "metadata": {},
   "outputs": [],
   "source": [
    "inp_list"
   ]
  },
  {
   "cell_type": "code",
   "execution_count": null,
   "metadata": {},
   "outputs": [],
   "source": []
  }
 ],
 "metadata": {
  "kernelspec": {
   "display_name": "freecad_fem_env_meshlab2",
   "language": "python",
   "name": "python3"
  },
  "language_info": {
   "codemirror_mode": {
    "name": "ipython",
    "version": 3
   },
   "file_extension": ".py",
   "mimetype": "text/x-python",
   "name": "python",
   "nbconvert_exporter": "python",
   "pygments_lexer": "ipython3",
   "version": "3.7.8"
  },
  "orig_nbformat": 4,
  "vscode": {
   "interpreter": {
    "hash": "fef725c972268f74e5910456982aaca9e23e19f30468309b932b373a55531934"
   }
  }
 },
 "nbformat": 4,
 "nbformat_minor": 2
}
