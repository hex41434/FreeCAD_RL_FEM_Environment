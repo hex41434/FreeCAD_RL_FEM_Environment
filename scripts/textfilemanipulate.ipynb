{
 "cells": [
  {
   "cell_type": "code",
   "execution_count": 12,
   "metadata": {},
   "outputs": [],
   "source": [
    "import os\n",
    "import sys\n",
    "import pymeshlab\n",
    "conda_active_path = sys.exec_prefix\n",
    "# conda_active_path = os.environ[\"CONDA_PREFIX\"]\n",
    "sys.path.append(os.path.join(conda_active_path, \"lib\"))\n",
    "import fileinput\n",
    "import numpy as np"
   ]
  },
  {
   "cell_type": "code",
   "execution_count": 13,
   "metadata": {},
   "outputs": [
    {
     "name": "stdout",
     "output_type": "stream",
     "text": [
      "/scratch/aifa/MyRepo/RL_FEM/gym_RLFEM/FreeCAD_RL_FEM_Environment/scripts\n",
      "myfile.txt\n"
     ]
    }
   ],
   "source": [
    "fl = '/scratch/aifa/MyRepo/RL_FEM/gym_RLFEM/FreeCAD_RL_FEM_Environment/scripts/myfile.txt'\n",
    "\n",
    "fl_dir, fl_inpfile = os.path.split(fl)\n",
    "print(fl_dir)\n",
    "print(fl_inpfile)"
   ]
  },
  {
   "cell_type": "code",
   "execution_count": 31,
   "metadata": {},
   "outputs": [],
   "source": [
    "#updated FemMesh\n",
    "HEAD = '** Nodes'\n",
    "TAIL = '** Volume elements'\n",
    "#femmesh_content\n",
    "\n",
    "HEAD = '** Volume elements'\n",
    "TAIL = '** Define element set Eall'\n",
    "#volume_content\n",
    "# or write both nodes and volume at the same time...\n",
    "\n",
    "#CLOAD\n",
    "HEAD = '** FemConstraintForce'\n",
    "TAIL = '** Outputs --> frd file'\n",
    "# forceconstraint_content = force + '\\n\\n***********************************************************'\n",
    "\n",
    "#fixed constraint\n",
    "HEAD = '*NSET,NSET=FemConstraintFixed'\n",
    "TAIL = '** Materials'\n",
    "# fixedconstraint_content = force + '\\n\\n***********************************************************'\n"
   ]
  },
  {
   "cell_type": "code",
   "execution_count": null,
   "metadata": {},
   "outputs": [],
   "source": [
    "#CLOAD\n",
    "HEAD = '** FemConstraintForce'\n",
    "TAIL = '** Outputs --> frd file'\n",
    "# forceconstraint_content = force + '\\n\\n***********************************************************'\n",
    "\n",
    "def create_head_tail_files(fl_dir,HEAD,TAIL):\n",
    "    ln = 0\n",
    "    start_line = 0\n",
    "    end_line = 0\n",
    "\n",
    "    with open(fl,\"r\") as fin, open(os.path.join(fl_dir,'head.txt'),\"w\") as fout_head, open(os.path.join(fl_dir,'tail.txt'),\"w\") as fout_tail:\n",
    "        for line in fin:\n",
    "            ln = ln+1\n",
    "            if start_line==0:\n",
    "                fout_head.write(line)\n",
    "                if HEAD in line:\n",
    "                    start_line = ln\n",
    "            \n",
    "            if TAIL in line: #TAIL is excluded\n",
    "                    end_line = ln-1\n",
    "            \n",
    "            if end_line!=0:\n",
    "                fout_tail.write(line)\n",
    "                \n"
   ]
  },
  {
   "cell_type": "code",
   "execution_count": 32,
   "metadata": {},
   "outputs": [],
   "source": [
    "with open(os.path.join(fl_dir,'head.txt'),\"r\") as fin_head, open(os.path.join(fl_dir,'tail.txt'),\"r\") as fin_tail, open(os.path.join(fl_dir,'final.txt'),\"w\") as fout_final:\n",
    "    for line in fin_head:\n",
    "        if '** HEAD' not in line:\n",
    "            fout_final.write(line)\n",
    "        \n",
    "    fout_final.writelines('.-.-.-.-.-.-.-.-.-.-.-.\\n')\n",
    "    fout_final.writelines('.-.-.-.-.-.-.-.-.-.-.-.\\n')\n",
    "    fout_final.writelines('.-.-.-.-.-.-.-.-.-.-.-.\\n')\n",
    "    \n",
    "    for line in fin_tail:\n",
    "        if '** TAIL' not in line:\n",
    "            fout_final.write(line)        \n"
   ]
  },
  {
   "cell_type": "code",
   "execution_count": 33,
   "metadata": {},
   "outputs": [
    {
     "ename": "SyntaxError",
     "evalue": "invalid syntax (<ipython-input-33-0d0eb79b1e10>, line 1)",
     "output_type": "error",
     "traceback": [
      "\u001b[0;36m  File \u001b[0;32m\"<ipython-input-33-0d0eb79b1e10>\"\u001b[0;36m, line \u001b[0;32m1\u001b[0m\n\u001b[0;31m    .\u001b[0m\n\u001b[0m    ^\u001b[0m\n\u001b[0;31mSyntaxError\u001b[0m\u001b[0;31m:\u001b[0m invalid syntax\n"
     ]
    }
   ],
   "source": [
    ".\n",
    "with open(fl) as file:\n",
    "    lines = [line.rstrip() for line in file]\n",
    "\n",
    "for i,ln in enumerate(lines):\n",
    "    if '** FemConstraintForce' in ln:\n",
    "        line_start = i\n",
    "    if '** Outputs --> frd file' in ln:\n",
    "        line_end = i\n",
    "\n",
    "print(line_start,line_end, line_end-line_start)\n",
    "\n",
    "# for j in range(line_start,line_end):\n",
    "#     print(lines[j])\n",
    "    \n",
    "head_content = lines[1:line_start]\n",
    "tail_content = lines[line_end]   "
   ]
  },
  {
   "cell_type": "code",
   "execution_count": null,
   "metadata": {},
   "outputs": [],
   "source": [
    "\n",
    "with open(os.path.join(fl_dir,'head_inp.inp'), \"w\") as f:\n",
    "        f.write(head_content)"
   ]
  },
  {
   "cell_type": "code",
   "execution_count": null,
   "metadata": {},
   "outputs": [],
   "source": [
    "def insert_line_method_1(fl,line_start):\n",
    "    with open(fl, \"r\") as f:\n",
    "        contents = f.readlines()\n",
    "\n",
    "    contents.insert(line_start+1, 'the new inserted line')\n",
    "\n",
    "    with open(fl, \"w\") as f:\n",
    "        contents = \"\".join(contents)\n",
    "        f.write(contents)\n"
   ]
  },
  {
   "cell_type": "code",
   "execution_count": null,
   "metadata": {},
   "outputs": [],
   "source": [
    "def read_fl(fl, line_start):\n",
    "    with open(fl) as file:\n",
    "        lines = [line.rstrip() for line in file]\n",
    "\n",
    "    for j in range(line_start, line_start+20):\n",
    "        print(lines[j])\n",
    "    "
   ]
  },
  {
   "cell_type": "code",
   "execution_count": null,
   "metadata": {},
   "outputs": [],
   "source": [
    "# second method\n",
    "def insert_line_method_2(fl,I):\n",
    "    old = \"CLOAD\"\n",
    "    new = \"GGGLOAD\"\n",
    "\n",
    "    for line in fileinput.FileInput(fl, inplace=True):\n",
    "        if old in line :\n",
    "            line += new + os.linesep\n",
    "        print(line, end=\"\")\n",
    "        \n",
    "    read_fl(fl,I)"
   ]
  },
  {
   "cell_type": "code",
   "execution_count": null,
   "metadata": {},
   "outputs": [],
   "source": [
    "\n",
    "# frc = \"{:.13E}\".format(doc.FemConstraintForce.Force)\n",
    "# Fx = np.random.randint(1, 50)\n",
    "# Fy = np.random.randint(1,5)\n",
    "# print(Fx,Fy)\n",
    "\n",
    "# for it in doc.CubeFemMesh.FemMesh.Nodes.items():\n",
    "#     if np.ceil(it[1].x) == Fx and np.ceil(it[1].y) == Fy and it[1].z!=0:      # Fx , Fy placement, check z (to remove bottom surface)\n",
    "#         print(it[0],',3,',frc)\n"
   ]
  },
  {
   "cell_type": "code",
   "execution_count": null,
   "metadata": {},
   "outputs": [],
   "source": []
  }
 ],
 "metadata": {
  "kernelspec": {
   "display_name": "freecad_fem_env_meshlab2",
   "language": "python",
   "name": "python3"
  },
  "language_info": {
   "codemirror_mode": {
    "name": "ipython",
    "version": 3
   },
   "file_extension": ".py",
   "mimetype": "text/x-python",
   "name": "python",
   "nbconvert_exporter": "python",
   "pygments_lexer": "ipython3",
   "version": "3.7.8 | packaged by conda-forge | (default, Nov 17 2020, 23:45:15) \n[GCC 7.5.0]"
  },
  "orig_nbformat": 4,
  "vscode": {
   "interpreter": {
    "hash": "fef725c972268f74e5910456982aaca9e23e19f30468309b932b373a55531934"
   }
  }
 },
 "nbformat": 4,
 "nbformat_minor": 2
}
