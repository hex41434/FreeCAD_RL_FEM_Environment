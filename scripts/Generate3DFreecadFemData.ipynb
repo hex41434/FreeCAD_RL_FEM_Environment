{
 "cells": [
  {
   "cell_type": "code",
   "execution_count": 1,
   "metadata": {},
   "outputs": [],
   "source": [
    "# conda env : freecad_fem_env\n",
    "\n",
    "import os\n",
    "import sys\n",
    "\n",
    "sys.path.append(os.path.join(os.environ[\"CONDA_PREFIX\"], \"lib\"))\n",
    "\n",
    "import FreeCAD\n",
    "import Part\n",
    "import ObjectsFem\n",
    "import Mesh\n",
    "import MeshPart\n",
    "import Fem\n",
    "import femmesh.femmesh2mesh\n",
    "from femtools import ccxtools\n",
    "import trimesh\n",
    "import numpy as np\n",
    "import datetime\n",
    "from FreecadFemLib import *\n",
    "import xlsxwriter\n"
   ]
  },
  {
   "cell_type": "code",
   "execution_count": 2,
   "metadata": {},
   "outputs": [
    {
     "name": "stdout",
     "output_type": "stream",
     "text": [
      "\n",
      " ******* Mesh.obj is loaded ******* \n",
      "\n",
      "\n",
      "--------\n",
      "invalid_points: False, has_manifolds: False,orient_faces: False, self_intersect: False\n",
      "\n",
      "--------\n",
      "mesh result mesh is removed...\n",
      "shape result mesh is removed...\n"
     ]
    }
   ],
   "source": [
    "#init\n",
    "doc = App.newDocument(\"doc\")\n",
    "\n",
    "trimesh_scene_meshes = []\n",
    "constraint_scene_meshes = []\n",
    "view_meshes = True\n",
    "\n",
    "doc,trimesh_scene_meshes,initMesh = document_setup(doc,trimesh_scene_meshes)"
   ]
  },
  {
   "cell_type": "code",
   "execution_count": 3,
   "metadata": {},
   "outputs": [],
   "source": [
    "# for objs in doc.Objects:\n",
    "#     print(objs.Name)"
   ]
  },
  {
   "cell_type": "code",
   "execution_count": 4,
   "metadata": {
    "scrolled": false
   },
   "outputs": [
    {
     "name": "stdout",
     "output_type": "stream",
     "text": [
      "\n",
      "\n",
      "-----------\n",
      " state - 1\n",
      "-----------\n",
      "\n",
      "\n",
      "force position : 81\n",
      "\n",
      "num of faces as fixed constraints: 22\n",
      "num of faces as force constraints: 4\n",
      "Analysis done successfully...\n",
      "CCX_Results\n",
      "Mesh by surface search method:  4.736405\n",
      "mesh_out is converted to mesh...\n",
      "\n",
      "--------\n",
      "invalid_points: False, has_manifolds: False,orient_faces: False, self_intersect: False\n",
      "\n",
      "--------\n",
      "state_info : _20210517163105503117_81_2000\n",
      "file is saved: /scratch/aifa/DATA/FCAD_3D/_20210517165005979203.obj\n",
      "mesh result mesh is removed...\n",
      "Analysis done successfully...\n",
      "CCX_Results\n",
      "Mesh by surface search method:  3.5777140000000003\n",
      "mesh_out is converted to mesh...\n",
      "\n",
      "--------\n",
      "invalid_points: False, has_manifolds: False,orient_faces: False, self_intersect: False\n",
      "\n",
      "--------\n",
      "state_info : _20210517163105503117_81_12000\n",
      "file is saved: /scratch/aifa/DATA/FCAD_3D/_20210517165010434935.obj\n",
      "old femmesh is removed...\n",
      "FemConstraints cleared...\n",
      "old solid result mesh is removed...\n",
      "shape from mesh done...\n",
      "done!\n"
     ]
    }
   ],
   "source": [
    "\n",
    "for state_indx in range(1,2):\n",
    "\n",
    "    #------  setup the state-action\n",
    "    print(f\"\\n\\n-----------\\n state - {state_indx}\\n-----------\\n\\n\")\n",
    "    force_position = np.random.randint(3,97)\n",
    "    print(f\"force position : {force_position}\\n\")\n",
    "\n",
    "    doc , fem_ok = create_shape_femmesh(doc)    \n",
    "    if not fem_ok: break\n",
    "\n",
    "    doc , fixed_indx = set_constraint_fixed(doc)\n",
    "    doc , force_indx = set_constraint_force_placement(doc, force_position=force_position)    \n",
    "                                            \n",
    "    if len(fixed_indx)==0 or len(force_indx)==0:\n",
    "        print(\"force or fixed constraints are empty... no more analysis will be executed... \")\n",
    "        break\n",
    "        \n",
    "    fixed_scene = add_constraints_to_scene_meshes(doc,fixed_indx,color='blue')\n",
    "    force_scene = add_constraints_to_scene_meshes(doc,force_indx,color='red')\n",
    "    constraint_scene_meshes.append(concat_meshes(fixed_scene,force_scene))\n",
    "\n",
    "    doc = remove_old_shape_result_mesh(doc)\n",
    "    \n",
    "    row_data = []\n",
    "#     for force_val in range(15000,40000,10000):\n",
    "    for force_val in range(2000,20000,10000):    \n",
    "      \n",
    "        doc = remove_old_mesh_result_mesh(doc)\n",
    "        doc = set_constraint_force_value(doc,force_val)\n",
    "        # run Analysis\n",
    "        doc, fem_volume = run_analysis(doc)\n",
    "        if not fem_volume: break\n",
    "\n",
    "        #------   create and export result mesh\n",
    "        doc, out_mesh = create_mesh_from_result(doc)\n",
    "        if not out_mesh: break\n",
    "        if not checkMesh(out_mesh): break    \n",
    "\n",
    "        result_trimesh = Meshobj_to_trimesh(out_mesh)\n",
    "        result_trimesh_decimated = result_trimesh.simplify_quadratic_decimation(2000)\n",
    "        trimesh_decimated_topology = trimesh_to_mesh_topology(result_trimesh_decimated)\n",
    "        result_trimesh_decimated = set_trimesh_color(result_trimesh_decimated)\n",
    "\n",
    "        if view_meshes : trimesh_scene_meshes.append(result_trimesh_decimated)\n",
    "\n",
    "        now = str(datetime.datetime.now())\n",
    "        sav = \"_\"+now.replace(\"-\",\"\").replace(\" \",\"\").replace(\":\",\"\").replace(\".\",\"\")\n",
    "        \n",
    "        state_info = f\"{initMesh}_{force_position}_{force_val}\"\n",
    "        print(f\"state_info : {state_info}\")\n",
    "        saved_filename = f\"{sav}.obj\"\n",
    "        save_trimesh(result_trimesh_decimated,saved_filename)\n",
    "        \n",
    "        row_data.append([f\"{initMesh}.obj\",force_position,force_val,saved_filename])\n",
    "\n",
    "    add_to_excel_file(row_data)\n",
    "#     #------   prepare shape for next state\n",
    "#     doc = remove_old_femmesh(doc)\n",
    "#     doc = clear_constraints(doc)\n",
    "#     doc = remove_old_solid(doc)\n",
    "\n",
    "#     doc = create_shape_from_mesh(doc,trimesh_decimated_topology)\n",
    "#     doc, solid = convert_to_solid(doc) \n",
    "    \n",
    "print(\"done!\")"
   ]
  },
  {
   "cell_type": "code",
   "execution_count": 5,
   "metadata": {
    "scrolled": false
   },
   "outputs": [],
   "source": [
    "# print('initial mesh:')\n",
    "# mesh_scene = generate_complete_meshes_scene(doc,trimesh_scene_meshes)\n",
    "# mesh_scene.show()\n"
   ]
  },
  {
   "cell_type": "code",
   "execution_count": 6,
   "metadata": {},
   "outputs": [],
   "source": [
    "# print(\"the ith state - action (before running the analysis)\")\n",
    "# print(len(trimesh_scene_meshes), len(constraint_scene_meshes))\n",
    "\n",
    "# i = len(trimesh_scene_meshes)\n",
    "# state_scene = []\n",
    "\n",
    "# state_scene.append(trimesh_scene_meshes[0])\n",
    "# state_scene.append(constraint_scene_meshes[0])\n",
    "\n",
    "# _scene = generate_complete_meshes_scene(doc,state_scene)\n",
    "# _scene.show()"
   ]
  },
  {
   "cell_type": "code",
   "execution_count": 7,
   "metadata": {},
   "outputs": [],
   "source": [
    "# s = scene_view_normals(result_trimesh_decimated)\n",
    "# s.show()"
   ]
  },
  {
   "cell_type": "code",
   "execution_count": 8,
   "metadata": {},
   "outputs": [],
   "source": [
    "### save_image() has problem with opengl (and jupyter)\n",
    "\n",
    "# from PIL import Image\n",
    "# import io \n",
    "# image = np.array(Image.open(io.BytesIO(trimesh.Scene(pnt).save_image(resolution=(200, 200)))))\n",
    "\n",
    "# trimesh.Scene(pnt).show(line_settings={'point_size':130})"
   ]
  }
 ],
 "metadata": {
  "kernelspec": {
   "display_name": "Python 3",
   "language": "python",
   "name": "python3"
  },
  "language_info": {
   "codemirror_mode": {
    "name": "ipython",
    "version": 3
   },
   "file_extension": ".py",
   "mimetype": "text/x-python",
   "name": "python",
   "nbconvert_exporter": "python",
   "pygments_lexer": "ipython3",
   "version": "3.7.8"
  }
 },
 "nbformat": 4,
 "nbformat_minor": 4
}
