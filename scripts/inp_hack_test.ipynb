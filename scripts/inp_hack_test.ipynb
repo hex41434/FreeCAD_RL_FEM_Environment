{
 "cells": [
  {
   "cell_type": "code",
   "execution_count": 1,
   "metadata": {},
   "outputs": [],
   "source": [
    "import os\n",
    "import sys\n",
    "import pymeshlab\n",
    "conda_active_path = sys.exec_prefix\n",
    "# conda_active_path = os.environ[\"CONDA_PREFIX\"]\n",
    "sys.path.append(os.path.join(conda_active_path, \"lib\"))\n",
    "import fileinput\n",
    "import numpy as np"
   ]
  },
  {
   "cell_type": "code",
   "execution_count": 2,
   "metadata": {},
   "outputs": [
    {
     "name": "stdout",
     "output_type": "stream",
     "text": [
      "ccxtools_import_passed...\n"
     ]
    }
   ],
   "source": [
    "# freecad Macro - create shape and calculate deformations and save ply\n",
    "import FreeCAD\n",
    "import Part\n",
    "import ObjectsFem\n",
    "import Fem\n",
    "import Mesh\n",
    "import femmesh.femmesh2mesh\n",
    "try:\n",
    "    from femtools import ccxtools\n",
    "except ImportError:\n",
    "    print('ccxtools_import_passed...')\n",
    "from femtools import ccxtools\n"
   ]
  },
  {
   "cell_type": "code",
   "execution_count": 3,
   "metadata": {},
   "outputs": [
    {
     "name": "stdout",
     "output_type": "stream",
     "text": [
      "apart.ViewObject.Visibility = True\n",
      "amesh.ViewObject.Visibility = False\n",
      "amesh.ViewObject.Visibility = True\n",
      "apart.ViewObject.Visibility = True\n",
      "amesh.ViewObject.Visibility = False\n",
      "amesh.ViewObject.Visibility = True\n",
      "+o+o+o+o+o+o+ .inp filename /tmp/femsdjpev9b/CubeFemMesh.inp\n",
      "found a last Face:  167125904785538\n",
      "CCX_Results\n",
      "Mesh by surface search method:  0.369124\n",
      "Box\n",
      "Analysis\n",
      "CubeFemMesh\n",
      "FemConstraintFixed\n",
      "FemConstraintForce\n",
      "CalculiXccxTools\n",
      "SolidMaterial\n",
      "ResultMesh\n",
      "CCX_Results\n"
     ]
    }
   ],
   "source": [
    "\n",
    "doc = App.newDocument(\"doc\")\n",
    "\n",
    "box_obj = doc.addObject('Part::Box', 'Box')\n",
    "box_obj.Height = 2\n",
    "box_obj.Width = 5\n",
    "box_obj.Length = 50\n",
    "\n",
    "analysis_object = ObjectsFem.makeAnalysis(FreeCAD.ActiveDocument, 'Analysis')\n",
    "\n",
    "femmesh_obj = doc.addObject('Fem::FemMeshShapeNetgenObject', 'CubeFemMesh')\n",
    "femmesh_obj.Shape = box_obj \n",
    "femmesh_obj.Fineness = \"VeryCoarse\"\n",
    "femmesh_obj.MaxSize = 100\n",
    "\n",
    "doc.Analysis.addObject(femmesh_obj)\n",
    "doc.recompute()\n",
    "\n",
    "doc.addObject(\"Fem::ConstraintFixed\",\"FemConstraintFixed\")\n",
    "doc.FemConstraintFixed.Scale = 1\n",
    "doc.Analysis.addObject(doc.FemConstraintFixed)\n",
    "for amesh in doc.Objects:\n",
    "    if \"FemConstraintFixed\" == amesh.Name:\n",
    "        print('amesh.ViewObject.Visibility = True')\n",
    "    elif \"Mesh\" in amesh.TypeId:\n",
    "        aparttoshow = amesh.Name.replace(\"_Mesh\",\"\")\n",
    "        for apart in doc.Objects:\n",
    "            if aparttoshow == apart.Name:\n",
    "                print('apart.ViewObject.Visibility = True')\n",
    "        print('amesh.ViewObject.Visibility = False')\n",
    "\n",
    "doc.recompute()\n",
    "\n",
    "doc.FemConstraintFixed.Scale = 1\n",
    "doc.FemConstraintFixed.References = [(doc.Box,\"Face2\")]\n",
    "doc.recompute()\n",
    "\n",
    "doc.addObject(\"Fem::ConstraintForce\",\"FemConstraintForce\")\n",
    "doc.FemConstraintForce.Force = 1.0\n",
    "doc.FemConstraintForce.Reversed = False\n",
    "doc.FemConstraintForce.Scale = 1\n",
    "doc.Analysis.addObject(doc.FemConstraintForce)\n",
    "\n",
    "for amesh in doc.Objects:\n",
    "    if \"FemConstraintForce\" == amesh.Name:\n",
    "        print(\"amesh.ViewObject.Visibility = True\")\n",
    "    elif \"Mesh\" in amesh.TypeId:\n",
    "        aparttoshow = amesh.Name.replace(\"_Mesh\",\"\")\n",
    "        for apart in doc.Objects:\n",
    "            if aparttoshow == apart.Name:\n",
    "                print(\"apart.ViewObject.Visibility = True\")\n",
    "        print(\"amesh.ViewObject.Visibility = False\")\n",
    "\n",
    "doc.recompute()\n",
    "doc.FemConstraintForce.Force = 1000\n",
    "doc.FemConstraintForce.Direction = None\n",
    "doc.FemConstraintForce.Reversed = True\n",
    "doc.FemConstraintForce.Scale = 1\n",
    "doc.FemConstraintForce.References = [(doc.Box,\"Face6\")]\n",
    "doc.recompute()\n",
    "\n",
    "analysis_object.addObject(ObjectsFem.makeSolverCalculixCcxTools(doc))\n",
    "\n",
    "## material\n",
    "material_object = ObjectsFem.makeMaterialSolid(doc, \"SolidMaterial\")\n",
    "mat = material_object.Material\n",
    "mat['Name'] = \"Steel-Generic\"\n",
    "mat['YoungsModulus'] = \"210000 MPa\"\n",
    "mat['PoissonRatio'] = \"0.30\"\n",
    "mat['Density'] = \"7900 kg/m^3\"\n",
    "material_object.Material = mat\n",
    "analysis_object.addObject(material_object)\n",
    "\n",
    "# run the analysis step by step\n",
    "fea1 = ccxtools.FemToolsCcx()\n",
    "fea1.update_objects()\n",
    "fea1.setup_working_dir()\n",
    "\n",
    "fea1.setup_ccx()\n",
    "message = fea1.check_prerequisites()\n",
    "if not message:\n",
    "    fea1.purge_results()\n",
    "    fea1.write_inp_file()\n",
    "    fea1.ccx_run()\n",
    "    print(f'+o+o+o+o+o+o+ .inp filename {fea1.inp_file_name}')\n",
    "    fea1.load_results()\n",
    "else:\n",
    "    FreeCAD.Console.PrintError(\"Oh, we have a problem! {}\\n\".format(message))  # in report view\n",
    "    print(\"Oh, we have a problem! {}\\n\".format(message))  # in python console\n",
    "\n",
    "femmesh_obj = doc.getObject(\"ResultMesh\").FemMesh\n",
    "result = doc.getObject(\"CCX_Results\")\n",
    "\n",
    "out_mesh = femmesh.femmesh2mesh.femmesh_2_mesh(femmesh_obj, result)\n",
    "\n",
    "for o in doc.Objects:\n",
    "    print(o.Name)"
   ]
  },
  {
   "cell_type": "code",
   "execution_count": 4,
   "metadata": {},
   "outputs": [
    {
     "data": {
      "text/plain": [
       "[<Fem::FemMeshObject object>]"
      ]
     },
     "execution_count": 4,
     "metadata": {},
     "output_type": "execute_result"
    }
   ],
   "source": [
    "# calculate  displacements and add updated femmesh to the analysis (remove the old one)\n",
    "mesh_obj = doc.CubeFemMesh\n",
    "#remove the dold femmesh\n",
    "doc.removeObject('CubeFemMesh')\n",
    "#add updated femmesh - with the same name (->>> update old femmesh)\n",
    "mesh_obj = doc.addObject('Fem::FemMeshObject', 'CubeFemMesh')\n",
    "\n",
    "new_mesh = Fem.FemMesh()\n",
    "res_coord = doc.CCX_Results.DisplacementVectors\n",
    "res_nd_no = doc.CCX_Results.NodeNumbers\n",
    "res_mesh = doc.ResultMesh.FemMesh\n",
    "for n in res_nd_no:\n",
    "    new_mesh.addNode((res_mesh.Nodes[n].x + res_coord[n-1].x), (res_mesh.Nodes[n].y + res_coord[n-1].y), (res_mesh.Nodes[n].z + res_coord[n-1].z), n)\n",
    "\n",
    "for v in res_mesh.Volumes:\n",
    "    new_mesh.addVolume( list(res_mesh.getElementNodes(v)))\n",
    "\n",
    "mesh_obj.FemMesh = new_mesh\n",
    "doc.Analysis.addObject(mesh_obj)"
   ]
  },
  {
   "cell_type": "code",
   "execution_count": 5,
   "metadata": {},
   "outputs": [
    {
     "name": "stdout",
     "output_type": "stream",
     "text": [
      "Box\n",
      "Analysis\n",
      "FemConstraintFixed\n",
      "FemConstraintForce\n",
      "CalculiXccxTools\n",
      "SolidMaterial\n",
      "ResultMesh\n",
      "CCX_Results\n",
      "CubeFemMesh\n"
     ]
    }
   ],
   "source": [
    "for o in doc.Objects:\n",
    "    print(o.Name)"
   ]
  },
  {
   "cell_type": "code",
   "execution_count": 6,
   "metadata": {},
   "outputs": [
    {
     "name": "stdout",
     "output_type": "stream",
     "text": [
      "\n",
      "+o+o+o+o+o+o+ .inp filename /tmp/femsdjpev9b/CubeFemMesh.inp\n",
      "ccx run done!\n",
      "+o+o+o+o+o+o+ .inp filename /tmp/femsdjpev9b/CubeFemMesh.inp\n"
     ]
    }
   ],
   "source": [
    "# update the last inp file (nodes and elements): \n",
    "fea2 = ccxtools.FemToolsCcx()#\n",
    "fea2.update_objects()#\n",
    "\n",
    "fea2.inp_file_name = fea1.inp_file_name#\n",
    "wd = fea2.inp_file_name.replace('CubeFemMesh.inp','')\n",
    "fea2.working_dir = wd\n",
    "message = fea2.check_prerequisites()#\n",
    "print(message)\n",
    "\n",
    "print(f'+o+o+o+o+o+o+ .inp filename {fea2.inp_file_name}')\n",
    "if not message:\n",
    "    fea2.reset_all()#\n",
    "    fea2.ccx_run()\n",
    "    fea2.load_results()#\n",
    "    print('ccx run done!')\n",
    "else:\n",
    "    print(\"Oh, we have a problem! {}\\n\".format(message))  # in python console\n",
    "\n",
    "print(f'+o+o+o+o+o+o+ .inp filename {fea2.inp_file_name}')"
   ]
  },
  {
   "cell_type": "code",
   "execution_count": 7,
   "metadata": {},
   "outputs": [
    {
     "data": {
      "text/plain": [
       "'/tmp/femsdjpev9b'"
      ]
     },
     "execution_count": 7,
     "metadata": {},
     "output_type": "execute_result"
    }
   ],
   "source": [
    "inp_dir, inpfile = os.path.split(fea2.inp_file_name)\n",
    "inp_dir"
   ]
  },
  {
   "cell_type": "code",
   "execution_count": 8,
   "metadata": {},
   "outputs": [],
   "source": [
    "# new action - could be removed --> directly based on femmesh \n",
    "doc.recompute()\n",
    "doc.FemConstraintForce.Force = 10\n",
    "doc.FemConstraintForce.Direction = None\n",
    "doc.FemConstraintForce.Reversed = True\n",
    "doc.FemConstraintForce.Scale = 1\n",
    "doc.FemConstraintForce.References = [(doc.Box,\"Face5\")]\n",
    "doc.recompute()\n",
    "\n",
    "# prepare force constraint for inp file format\n",
    "frc = \"{:.13E}\".format(doc.FemConstraintForce.Force)\n",
    "Fx = np.random.randint(1, 50)\n",
    "Fy = np.random.randint(1,5)\n",
    "# print(Fx,Fy)\n",
    "\n",
    "with open(os.path.join(inp_dir,\"ConstForce.txt\"), \"w\") as text_file_force , open(os.path.join(inp_dir,\"ConstFix.txt\"), \"w\") as text_file_fixed:\n",
    "    for it in doc.CubeFemMesh.FemMesh.Nodes.items():\n",
    "        if np.ceil(it[1].x) == Fx and np.ceil(it[1].y) == Fy and it[1].z!=0:      # Fx , Fy placement, check z (to remove bottom surface)\n",
    "            # print(it[0],',3,',frc)\n",
    "            write_str = f'{it[0]},3,{frc}\\n'\n",
    "            text_file_force.write(write_str)\n",
    "        if it[1].z==0: # check z(bottom surface)\n",
    "            # print(it[0],',\\n')\n",
    "            write_str = f'{it[0]},\\n'\n",
    "            text_file_fixed.write(write_str)\n",
    "    \n",
    "    text_file_force.write('\\n\\n***********************************************************')#end of block    \n",
    "    text_file_fixed.write('\\n\\n***********************************************************')#end of block"
   ]
  },
  {
   "attachments": {},
   "cell_type": "markdown",
   "metadata": {},
   "source": [
    "update inp file (insert new CLOAD,... ) "
   ]
  },
  {
   "cell_type": "code",
   "execution_count": 9,
   "metadata": {},
   "outputs": [],
   "source": [
    "def create_head_tail_files(fl_dir,inpfile,HEAD,TAIL): # HEAD:included, TAIL:excluded\n",
    "    ln = 0\n",
    "    start_line = 0\n",
    "    end_line = 0\n",
    "\n",
    "    with open(os.path.join(fl_dir,inpfile),\"r\") as fin, open(os.path.join(fl_dir,'head.txt'),\"w\") as fout_head, open(os.path.join(fl_dir,'tail.txt'),\"w\") as fout_tail:\n",
    "        for line in fin:\n",
    "            ln = ln+1\n",
    "            if start_line==0:\n",
    "                fout_head.write(line)\n",
    "                if HEAD in line:\n",
    "                    start_line = ln\n",
    "            \n",
    "            if TAIL in line: #TAIL is excluded\n",
    "                    end_line = ln-1\n",
    "            \n",
    "            if end_line!=0:\n",
    "                fout_tail.write(line)\n",
    "                \n",
    "                \n",
    "def insert_block_to_inp(inp_dir,inpfile,BLOCK):\n",
    "    file_list = ['head.txt', BLOCK, 'tail.txt']\n",
    "    with open(inpfile, 'w') as file:\n",
    "        input_lines = fileinput.input(file_list)\n",
    "        file.writelines(input_lines)    \n"
   ]
  },
  {
   "cell_type": "code",
   "execution_count": 10,
   "metadata": {},
   "outputs": [],
   "source": [
    "#CLOAD\n",
    "HEAD = '** FemConstraintForce'\n",
    "TAIL = '** Outputs --> frd file'\n",
    "BLOCK = 'ConstForce.txt'                \n",
    "create_head_tail_files(inp_dir,inpfile,HEAD,TAIL)\n",
    "\n",
    "cwd = os.getcwd()\n",
    "os.chdir(inp_dir)       \n",
    "insert_block_to_inp(inp_dir,inpfile,BLOCK)    \n",
    "os.chdir(cwd)"
   ]
  },
  {
   "cell_type": "code",
   "execution_count": 11,
   "metadata": {},
   "outputs": [],
   "source": [
    "### HEAD and TAIL are valid for one standard inp (the same sequence of blocks...)\n",
    "HEAD = '*NSET,NSET=FemConstraintFixed'\n",
    "TAIL = '** Materials'\n",
    "BLOCK = 'ConstFix.txt'\n",
    "create_head_tail_files(inp_dir,inpfile,HEAD,TAIL)\n",
    "\n",
    "cwd = os.getcwd()\n",
    "os.chdir(inp_dir)\n",
    "insert_block_to_inp(inp_dir,inpfile,BLOCK)    \n",
    "os.chdir(cwd)"
   ]
  },
  {
   "cell_type": "code",
   "execution_count": 12,
   "metadata": {},
   "outputs": [],
   "source": [
    "\n",
    "# frc = \"{:.13E}\".format(doc.FemConstraintForce.Force)\n",
    "# Fx = np.random.randint(1, 50)\n",
    "# Fy = np.random.randint(1,5)\n",
    "# print(Fx,Fy)\n",
    "\n",
    "# for it in doc.CubeFemMesh.FemMesh.Nodes.items():\n",
    "#     if np.ceil(it[1].x) == Fx and np.ceil(it[1].y) == Fy and it[1].z!=0:      # Fx , Fy placement, check z (to remove bottom surface)\n",
    "#         print(it[0],',3,',frc)\n"
   ]
  }
 ],
 "metadata": {
  "kernelspec": {
   "display_name": "freecad_fem_env_meshlab2",
   "language": "python",
   "name": "python3"
  },
  "language_info": {
   "codemirror_mode": {
    "name": "ipython",
    "version": 3
   },
   "file_extension": ".py",
   "mimetype": "text/x-python",
   "name": "python",
   "nbconvert_exporter": "python",
   "pygments_lexer": "ipython3",
   "version": "3.7.8 | packaged by conda-forge | (default, Nov 17 2020, 23:45:15) \n[GCC 7.5.0]"
  },
  "orig_nbformat": 4,
  "vscode": {
   "interpreter": {
    "hash": "fef725c972268f74e5910456982aaca9e23e19f30468309b932b373a55531934"
   }
  }
 },
 "nbformat": 4,
 "nbformat_minor": 2
}
