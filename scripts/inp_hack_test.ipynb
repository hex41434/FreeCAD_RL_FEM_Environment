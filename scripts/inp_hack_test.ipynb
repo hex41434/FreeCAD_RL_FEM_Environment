{
 "cells": [
  {
   "cell_type": "code",
   "execution_count": 8,
   "metadata": {},
   "outputs": [],
   "source": [
    "import os\n",
    "import sys\n",
    "import pymeshlab\n",
    "conda_active_path = sys.exec_prefix\n",
    "# conda_active_path = os.environ[\"CONDA_PREFIX\"]\n",
    "sys.path.append(os.path.join(conda_active_path, \"lib\"))\n",
    "import fileinput\n",
    "import numpy as np"
   ]
  },
  {
   "cell_type": "code",
   "execution_count": 9,
   "metadata": {},
   "outputs": [],
   "source": [
    "# freecad Macro - create shape and calculate deformations and save ply\n",
    "import FreeCAD\n",
    "import Part\n",
    "import ObjectsFem\n",
    "import Fem\n",
    "import Mesh\n",
    "import femmesh.femmesh2mesh\n",
    "try:\n",
    "    from femtools import ccxtools\n",
    "except ImportError:\n",
    "    print('ccxtools_import_passed...')\n",
    "from femtools import ccxtools\n"
   ]
  },
  {
   "cell_type": "code",
   "execution_count": 10,
   "metadata": {},
   "outputs": [
    {
     "name": "stdout",
     "output_type": "stream",
     "text": [
      "+o+o+o+o+o+o+ .inp filename /scratch/aifa/MyRepo/RL_FEM/gym_RLFEM/FreeCAD_RL_FEM_Environment/my_inp_files/CubeFemMesh.inp\n",
      "found a last Face:  167125904785538\n",
      "CCX_Results\n",
      "Mesh by surface search method:  0.3803160000000001\n",
      "Box\n",
      "Analysis\n",
      "CubeFemMesh\n",
      "FemConstraintFixed\n",
      "FemConstraintForce\n",
      "CalculiXccxTools\n",
      "SolidMaterial\n",
      "ResultMesh\n",
      "CCX_Results\n"
     ]
    }
   ],
   "source": [
    "\n",
    "doc = App.newDocument(\"doc\")\n",
    "\n",
    "box_obj = doc.addObject('Part::Box', 'Box')\n",
    "box_obj.Height = 2\n",
    "box_obj.Width = 5\n",
    "box_obj.Length = 50\n",
    "\n",
    "analysis_object = ObjectsFem.makeAnalysis(FreeCAD.ActiveDocument, 'Analysis')\n",
    "\n",
    "femmesh_obj = doc.addObject('Fem::FemMeshShapeNetgenObject', 'CubeFemMesh')\n",
    "femmesh_obj.Shape = box_obj \n",
    "femmesh_obj.Fineness = \"VeryCoarse\"\n",
    "femmesh_obj.MaxSize = 100\n",
    "\n",
    "doc.Analysis.addObject(femmesh_obj)\n",
    "doc.recompute()\n",
    "\n",
    "doc.addObject(\"Fem::ConstraintFixed\",\"FemConstraintFixed\")\n",
    "doc.FemConstraintFixed.Scale = 1\n",
    "doc.Analysis.addObject(doc.FemConstraintFixed)\n",
    "\n",
    "doc.recompute()\n",
    "\n",
    "doc.FemConstraintFixed.Scale = 1\n",
    "doc.FemConstraintFixed.References = [(doc.Box,\"Face2\")]\n",
    "doc.recompute()\n",
    "\n",
    "doc.addObject(\"Fem::ConstraintForce\",\"FemConstraintForce\")\n",
    "doc.FemConstraintForce.Force = 1.0\n",
    "doc.FemConstraintForce.Reversed = False\n",
    "doc.FemConstraintForce.Scale = 1\n",
    "doc.Analysis.addObject(doc.FemConstraintForce)\n",
    "\n",
    "doc.recompute()\n",
    "doc.FemConstraintForce.Force = 1000\n",
    "doc.FemConstraintForce.Direction = None\n",
    "doc.FemConstraintForce.Reversed = True\n",
    "doc.FemConstraintForce.Scale = 1\n",
    "doc.FemConstraintForce.References = [(doc.Box,\"Face6\")]\n",
    "doc.recompute()\n",
    "\n",
    "analysis_object.addObject(ObjectsFem.makeSolverCalculixCcxTools(doc))\n",
    "\n",
    "## material\n",
    "material_object = ObjectsFem.makeMaterialSolid(doc, \"SolidMaterial\")\n",
    "mat = material_object.Material\n",
    "mat['Name'] = \"Steel-Generic\"\n",
    "mat['YoungsModulus'] = \"210000 MPa\"\n",
    "mat['PoissonRatio'] = \"0.30\"\n",
    "mat['Density'] = \"7900 kg/m^3\"\n",
    "material_object.Material = mat\n",
    "analysis_object.addObject(material_object)\n",
    "\n",
    "# run the analysis step by step\n",
    "fea1 = ccxtools.FemToolsCcx()\n",
    "fea1.update_objects()\n",
    "fea1.setup_working_dir('/scratch/aifa/MyRepo/RL_FEM/gym_RLFEM/FreeCAD_RL_FEM_Environment/my_inp_files')\n",
    "\n",
    "fea1.setup_ccx()\n",
    "message = fea1.check_prerequisites()\n",
    "if not message:\n",
    "    fea1.purge_results()\n",
    "    fea1.write_inp_file()\n",
    "    fea1.ccx_run()\n",
    "    print(f'+o+o+o+o+o+o+ .inp filename {fea1.inp_file_name}')\n",
    "    fea1.load_results()\n",
    "else:\n",
    "    FreeCAD.Console.PrintError(\"Oh, we have a problem! {}\\n\".format(message))  # in report view\n",
    "    print(\"Oh, we have a problem! {}\\n\".format(message))  # in python console\n",
    "\n",
    "femmesh_obj = doc.getObject(\"ResultMesh\").FemMesh\n",
    "result = doc.getObject(\"CCX_Results\")\n",
    "\n",
    "out_mesh = femmesh.femmesh2mesh.femmesh_2_mesh(femmesh_obj, result)\n",
    "\n",
    "for o in doc.Objects:\n",
    "    print(o.Name)"
   ]
  },
  {
   "cell_type": "code",
   "execution_count": 11,
   "metadata": {},
   "outputs": [
    {
     "data": {
      "text/plain": [
       "[<Fem::FemMeshObject object>]"
      ]
     },
     "execution_count": 11,
     "metadata": {},
     "output_type": "execute_result"
    }
   ],
   "source": [
    "# calculate  displacements and add updated femmesh to the analysis (remove the old one)\n",
    "mesh_obj = doc.CubeFemMesh\n",
    "#remove the dold femmesh\n",
    "doc.removeObject('CubeFemMesh')\n",
    "#add updated femmesh - with the same name (->>> update old femmesh)\n",
    "mesh_obj = doc.addObject('Fem::FemMeshObject', 'CubeFemMesh')\n",
    "\n",
    "new_mesh = Fem.FemMesh()\n",
    "res_coord = doc.CCX_Results.DisplacementVectors\n",
    "res_nd_no = doc.CCX_Results.NodeNumbers\n",
    "res_mesh = doc.ResultMesh.FemMesh\n",
    "for n in res_nd_no:\n",
    "    new_mesh.addNode((res_mesh.Nodes[n].x + res_coord[n-1].x), (res_mesh.Nodes[n].y + res_coord[n-1].y), (res_mesh.Nodes[n].z + res_coord[n-1].z), n)\n",
    "\n",
    "for v in res_mesh.Volumes:\n",
    "    new_mesh.addVolume( list(res_mesh.getElementNodes(v)))\n",
    "\n",
    "mesh_obj.FemMesh = new_mesh\n",
    "doc.Analysis.addObject(mesh_obj)"
   ]
  },
  {
   "cell_type": "code",
   "execution_count": 12,
   "metadata": {},
   "outputs": [
    {
     "name": "stdout",
     "output_type": "stream",
     "text": [
      "Box\n",
      "Analysis\n",
      "FemConstraintFixed\n",
      "FemConstraintForce\n",
      "CalculiXccxTools\n",
      "SolidMaterial\n",
      "ResultMesh\n",
      "CCX_Results\n",
      "CubeFemMesh\n"
     ]
    }
   ],
   "source": [
    "for o in doc.Objects:\n",
    "    print(o.Name)"
   ]
  },
  {
   "cell_type": "code",
   "execution_count": 13,
   "metadata": {},
   "outputs": [
    {
     "name": "stdout",
     "output_type": "stream",
     "text": [
      "\n",
      "+o+o+o+o+o+o+ .inp filename /scratch/aifa/MyRepo/RL_FEM/gym_RLFEM/FreeCAD_RL_FEM_Environment/my_inp_files/CubeFemMesh.inp\n",
      "ccx run done!\n",
      "+o+o+o+o+o+o+ .inp filename /scratch/aifa/MyRepo/RL_FEM/gym_RLFEM/FreeCAD_RL_FEM_Environment/my_inp_files/CubeFemMesh.inp\n"
     ]
    }
   ],
   "source": [
    "# update the last inp file (nodes and elements): \n",
    "fea2 = ccxtools.FemToolsCcx()#\n",
    "fea2.update_objects()#\n",
    "\n",
    "fea2.inp_file_name = fea1.inp_file_name#\n",
    "wd = fea2.inp_file_name.replace('CubeFemMesh.inp','')\n",
    "fea2.working_dir = wd\n",
    "message = fea2.check_prerequisites()#\n",
    "print(message)\n",
    "\n",
    "print(f'+o+o+o+o+o+o+ .inp filename {fea2.inp_file_name}')\n",
    "if not message:\n",
    "    fea2.reset_all()#\n",
    "    fea2.ccx_run()\n",
    "    fea2.load_results()#\n",
    "    print('ccx run done!')\n",
    "else:\n",
    "    print(\"Oh, we have a problem! {}\\n\".format(message))  # in python console\n",
    "\n",
    "print(f'+o+o+o+o+o+o+ .inp filename {fea2.inp_file_name}')"
   ]
  },
  {
   "cell_type": "code",
   "execution_count": 14,
   "metadata": {},
   "outputs": [
    {
     "data": {
      "text/plain": [
       "'/scratch/aifa/MyRepo/RL_FEM/gym_RLFEM/FreeCAD_RL_FEM_Environment/my_inp_files'"
      ]
     },
     "execution_count": 14,
     "metadata": {},
     "output_type": "execute_result"
    }
   ],
   "source": [
    "inp_dir, inpfile = os.path.split(fea2.inp_file_name)\n",
    "inp_dir"
   ]
  },
  {
   "cell_type": "code",
   "execution_count": null,
   "metadata": {},
   "outputs": [],
   "source": []
  }
 ],
 "metadata": {
  "kernelspec": {
   "display_name": "freecad_fem_env_meshlab2",
   "language": "python",
   "name": "python3"
  },
  "language_info": {
   "codemirror_mode": {
    "name": "ipython",
    "version": 3
   },
   "file_extension": ".py",
   "mimetype": "text/x-python",
   "name": "python",
   "nbconvert_exporter": "python",
   "pygments_lexer": "ipython3",
   "version": "3.7.8"
  },
  "orig_nbformat": 4,
  "vscode": {
   "interpreter": {
    "hash": "fef725c972268f74e5910456982aaca9e23e19f30468309b932b373a55531934"
   }
  }
 },
 "nbformat": 4,
 "nbformat_minor": 2
}
