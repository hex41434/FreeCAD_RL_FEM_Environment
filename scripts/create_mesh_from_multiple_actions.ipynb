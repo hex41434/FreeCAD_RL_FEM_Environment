{
 "cells": [
  {
   "cell_type": "code",
   "execution_count": 10,
   "metadata": {},
   "outputs": [],
   "source": [
    "# conda env : freecad_fem_env\n",
    "\n",
    "import os\n",
    "import sys\n",
    "\n",
    "sys.path.append(os.path.join(os.environ[\"CONDA_PREFIX\"], \"lib\"))\n",
    "\n",
    "import FreeCAD\n",
    "import Part\n",
    "import ObjectsFem\n",
    "import Mesh\n",
    "import MeshPart\n",
    "import Fem\n",
    "import femmesh.femmesh2mesh\n",
    "from femtools import ccxtools\n",
    "import trimesh\n",
    "import numpy as np\n",
    "import datetime\n",
    "\n",
    "from FreecadFemLib import *\n"
   ]
  },
  {
   "cell_type": "code",
   "execution_count": 11,
   "metadata": {},
   "outputs": [],
   "source": [
    "#init\n",
    "doc = App.newDocument(\"doc\")\n",
    "save_path = \"/scratch/aifa/DATA/FCAD_3D/\""
   ]
  },
  {
   "cell_type": "code",
   "execution_count": 12,
   "metadata": {},
   "outputs": [],
   "source": [
    "trimesh_scene_meshes = []\n",
    "constraint_scene_meshes = []"
   ]
  },
  {
   "cell_type": "code",
   "execution_count": 13,
   "metadata": {},
   "outputs": [
    {
     "output_type": "stream",
     "name": "stdout",
     "text": [
      "\n ******* _20210518010556946861.obj is loaded ******* \n\n     +++ Mesh is healthy!  +++ \nshape result mesh is removed...\nmesh result mesh is removed...\n"
     ]
    }
   ],
   "source": [
    "doc = document_setup(doc)\n",
    "\n",
    "load_path = \"/scratch/aifa/DATA/FCAD_3D/\"\n",
    "# filename = \"_20210517153229478077.obj\"#init\n",
    "# filename = '_20210517163929573370.obj'\n",
    "obj_file_list = os.listdir(load_path)\n",
    "rn = np.random.randint(len(obj_file_list))\n",
    "filename = obj_file_list[rn]\n",
    "# obj_file_list = ['_20210517163929573370.obj','_20210517174956901483.obj','_20210518001808400542.obj','resultmesh_fcad2.obj']\n",
    "\n",
    "doc, state0, initMesh, mesh_OK = init_shape(doc, load_path, filename,load_3d=True)\n",
    "doc = remove_old_mesh_result_mesh(doc,name=initMesh)        \n",
    "if not mesh_OK: print(\"XXX  Mesh is not healthy!  XXX\")\n",
    "\n",
    "\n",
    "trimesh_scene_meshes.append(state0)"
   ]
  },
  {
   "cell_type": "code",
   "execution_count": null,
   "metadata": {
    "scrolled": false
   },
   "outputs": [],
   "source": [
    "for state_indx in range(1,5):\n",
    "\n",
    "    if not mesh_OK: break\n",
    "    #------  setup the state-action\n",
    "    print(f\"\\n\\n-----------\\n state - {state_indx}\\n-----------\\n\\n\")\n",
    "    force_position = np.random.randint(3,97)\n",
    "    print(f\"force position : {force_position}\")\n",
    "    \n",
    "    doc , fem_ok = create_shape_femmesh(doc)\n",
    "    if not fem_ok: break\n",
    "    doc , fixed_indx = set_constraint_fixed(doc)\n",
    "    doc , force_indx = set_constraint_force_placement(doc, force_position=force_position)    \n",
    "                                            \n",
    "    if len(fixed_indx)==0 or len(force_indx)==0:\n",
    "        print(\"force or fixed constraints are empty... no more analysis will be executed... \")\n",
    "        break\n",
    "        \n",
    "    fixed_scene = add_constraints_to_scene_meshes(doc,fixed_indx,color='blue')\n",
    "    force_scene = add_constraints_to_scene_meshes(doc,force_indx,color='red')\n",
    "    constraint_scene_meshes.append(concat_meshes(fixed_scene,force_scene))\n",
    "\n",
    "    doc = remove_old_mesh_result_mesh(doc)\n",
    "    doc = remove_old_shape_result_mesh(doc)\n",
    "    \n",
    "    doc = set_constraint_force_value(doc, force=3000)\n",
    "    # run Analysis\n",
    "    doc, fem_volume = run_analysis(doc)\n",
    "    if not fem_volume: break\n",
    "    \n",
    "#     print(\"*************\")\n",
    "#     for objs in doc.Objects:\n",
    "#         print(f\">{objs.Name}\")\n",
    "#     print(\"*************\")\n",
    "    \n",
    "\n",
    "    #------   create and export result mesh\n",
    "    doc, out_mesh = create_mesh_from_result(doc)\n",
    "    if not out_mesh: break\n",
    "    if not checkMesh(out_mesh): break\n",
    "\n",
    "    result_trimesh = Meshobj_to_trimesh(out_mesh)\n",
    "    result_trimesh_decimated = result_trimesh.simplify_quadratic_decimation(2000)\n",
    "    trimesh_decimated_topology = trimesh_to_mesh_topology(result_trimesh_decimated)\n",
    "    result_trimesh_decimated = set_trimesh_color(result_trimesh_decimated)\n",
    "\n",
    "    trimesh_scene_meshes.append(result_trimesh_decimated)\n",
    "    #view_current_state(doc, result_trimesh_decimated)\n",
    "\n",
    "    now = str(datetime.datetime.now())\n",
    "    sav = \"_\"+now.replace(\"-\",\"\").replace(\" \",\"\").replace(\":\",\"\").split(\".\")[0]\n",
    "\n",
    "    saved_filename = f\"mAct_{sav}.obj\"\n",
    "    save_trimesh(result_trimesh_decimated,save_path,saved_filename)\n",
    "    #export_result_mesh(doc,state_indx)\n",
    "    \n",
    "    #------   prepare shape for next state\n",
    "    doc = remove_old_femmesh(doc)\n",
    "    doc = clear_constraints(doc)\n",
    "    doc = remove_old_solid(doc)\n",
    "\n",
    "    doc = create_shape_from_mesh(doc,trimesh_decimated_topology)\n",
    "    doc, solid = convert_to_solid(doc) \n",
    "\n",
    "print(\"+++++ Done! +++++\")"
   ]
  },
  {
   "cell_type": "code",
   "execution_count": 6,
   "metadata": {
    "scrolled": false
   },
   "outputs": [],
   "source": [
    "# mesh_scene = generate_complete_meshes_scene(doc,trimesh_scene_meshes)\n",
    "# mesh_scene.show()"
   ]
  },
  {
   "cell_type": "code",
   "execution_count": 7,
   "metadata": {},
   "outputs": [],
   "source": [
    "# print(len(constraint_scene_meshes),len(trimesh_scene_meshes))\n",
    "\n",
    "# n = np.random.randint(len(constraint_scene_meshes))\n",
    "# print(f\"the [state{n} - action{n}] (before running the analysis)\")\n",
    "# state_scene = []\n",
    "# state_scene.append(trimesh_scene_meshes[n])\n",
    "# state_scene.append(constraint_scene_meshes[n])\n",
    "\n",
    "# _scene = generate_complete_meshes_scene(doc,state_scene)\n",
    "# _scene.show()"
   ]
  },
  {
   "cell_type": "code",
   "execution_count": 8,
   "metadata": {},
   "outputs": [],
   "source": [
    "# s = scene_view_normals(result_trimesh_decimated)\n",
    "# s.show()"
   ]
  },
  {
   "cell_type": "code",
   "execution_count": 9,
   "metadata": {},
   "outputs": [],
   "source": [
    "### save_image() has problem with opengl (and jupyter)\n",
    "\n",
    "# from PIL import Image\n",
    "# import io \n",
    "# image = np.array(Image.open(io.BytesIO(trimesh.Scene(pnt).save_image(resolution=(200, 200)))))\n",
    "\n",
    "# trimesh.Scene(pnt).show(line_settings={'point_size':130})"
   ]
  }
 ],
 "metadata": {
  "kernelspec": {
   "display_name": "Python 3",
   "language": "python",
   "name": "python3"
  },
  "language_info": {
   "codemirror_mode": {
    "name": "ipython",
    "version": 3
   },
   "file_extension": ".py",
   "mimetype": "text/x-python",
   "name": "python",
   "nbconvert_exporter": "python",
   "pygments_lexer": "ipython3",
   "version": "3.7.8"
  }
 },
 "nbformat": 4,
 "nbformat_minor": 4
}